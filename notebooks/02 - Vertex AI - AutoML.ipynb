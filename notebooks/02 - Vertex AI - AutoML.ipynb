{
 "cells": [
  {
   "cell_type": "markdown",
   "id": "1ad2b88b",
   "metadata": {
    "tags": []
   },
   "source": [
    "#### **Author: Wissem Khlifi**\n",
    "\n",
    "# 02 - Vertex AI - AutoML\n",
    "\n",
    "This builds a custom model with AutoML and deploys it to an Endpoint for predictions and explanations. \n"
   ]
  },
  {
   "cell_type": "markdown",
   "id": "274e9220",
   "metadata": {},
   "source": [
    "\n",
    "## Setup"
   ]
  },
  {
   "cell_type": "markdown",
   "id": "f5ecbc2a",
   "metadata": {},
   "source": [
    "### Inputs:"
   ]
  },
  {
   "cell_type": "code",
   "execution_count": 3,
   "id": "7bf0314c-770c-41fe-be57-f41eb17bf48a",
   "metadata": {
    "tags": []
   },
   "outputs": [
    {
     "data": {
      "text/plain": [
       "'genai-demo-2024'"
      ]
     },
     "execution_count": 3,
     "metadata": {},
     "output_type": "execute_result"
    }
   ],
   "source": [
    "# Get the GCP project ID from the gcloud configuration\n",
    "# This ensures the notebook uses the correct GCP project for all operations.\n",
    "\n",
    "\n",
    "project = !gcloud config get-value project\n",
    "PROJECT_ID = project[0]\n",
    "PROJECT_ID"
   ]
  },
  {
   "cell_type": "code",
   "execution_count": 6,
   "id": "2c876ea3",
   "metadata": {
    "tags": []
   },
   "outputs": [],
   "source": [
    "# Set the region for GCP services\n",
    "# Specifying the region is necessary for certain GCP services to function correctly.\n",
    "\n",
    "REGION = 'us-central1'\n",
    "\n",
    "# Define source data parameters\n",
    "# These variables specify the BigQuery dataset and table to be used.\n",
    "\n",
    "BQ_PROJECT = PROJECT_ID\n",
    "BQ_DATASET = 'ml_datasets'\n",
    "BQ_TABLE = 'ulb_fraud_detection'\n",
    "\n",
    "# Define the notebook identifier\n",
    "# This helps in organizing and tracking different notebooks.\n",
    "\n",
    "NOTEBOOK = '02'\n",
    "\n",
    "# Resources\n",
    "# Specify the compute resources to be used for model training and deployment.\n",
    "\n",
    "DEPLOY_COMPUTE = 'n1-standard-4'\n",
    "\n",
    "# Model Training\n",
    "# Define the target variable for the model and any variables to omit from the training data.\n",
    "# 'transaction_id' is omitted because it is a unique identifier for each transaction and does not provide useful information \n",
    "# for the model to learn patterns or relationships. Including such unique identifiers can lead to overfitting where the model \n",
    "# memorizes the IDs instead of learning generalizable features. \n",
    "\n",
    "# 'Feedback' is omitted because it may not be directly relevant to the prediction task or it may contain information \n",
    "# that is not useful for the model. Including irrelevant features can introduce noise and reduce the model's performance.\n",
    "\n",
    "# 'service_account_email' is omitted because it is likely the same value for all records in the dataset, \n",
    "# providing no variance for the model to learn from. Features with the same value across all records do not contribute \n",
    "# to the learning process and can be safely excluded.\n",
    "\n",
    "\n",
    "VAR_TARGET = 'Class'\n",
    "VAR_OMIT = 'transaction_id Feedback service_account_email' # add more variables to the string with space delimiters"
   ]
  },
  {
   "cell_type": "markdown",
   "id": "766af32d",
   "metadata": {},
   "source": [
    "### Import packages:"
   ]
  },
  {
   "cell_type": "code",
   "execution_count": 8,
   "id": "37cc8f31",
   "metadata": {
    "tags": []
   },
   "outputs": [],
   "source": [
    "# Import necessary packages\n",
    "# These imports are required for interacting with Vertex AI, BigQuery, and handling data formats.\n",
    "\n",
    "from google.cloud import aiplatform  # Vertex AI Platform client for model training and deployment\n",
    "from datetime import datetime  # Date and time handling\n",
    "from google.cloud import bigquery # BigQuery client to run queries and manage datasets\n",
    "from google.protobuf import json_format  # Protobuf to JSON conversion\n",
    "from google.protobuf.struct_pb2 import Value # Protobuf structure for Vertex AI Platform\n",
    "import json # JSON handling\n",
    "import numpy as np # Numerical operations\n"
   ]
  },
  {
   "cell_type": "markdown",
   "id": "8eb5d30a",
   "metadata": {},
   "source": [
    "### Clients:"
   ]
  },
  {
   "cell_type": "code",
   "execution_count": 9,
   "id": "e6ea1163",
   "metadata": {
    "tags": []
   },
   "outputs": [],
   "source": [
    "# Initialize clients for GCP services\n",
    "# Creating client instances allows interaction with GCP services within the notebook.\n",
    "\n",
    "aiplatform.init(project=PROJECT_ID, location=REGION)\n",
    "bigquery = bigquery.Client()"
   ]
  },
  {
   "cell_type": "markdown",
   "id": "3bc72990",
   "metadata": {},
   "source": [
    "### Parameters:"
   ]
  },
  {
   "cell_type": "code",
   "execution_count": 10,
   "id": "0aa6724c",
   "metadata": {
    "tags": []
   },
   "outputs": [],
   "source": [
    "# Define parameters for the execution environment\n",
    "# This includes timestamp and directory for saving outputs.\n",
    "\n",
    "TIMESTAMP = datetime.now().strftime(\"%Y%m%d%H%M%S\")\n",
    "DIR = f\"temp/{NOTEBOOK}\""
   ]
  },
  {
   "cell_type": "markdown",
   "id": "6e7aa5a4",
   "metadata": {},
   "source": [
    "### Environment:"
   ]
  },
  {
   "cell_type": "code",
   "execution_count": 39,
   "id": "839f366e",
   "metadata": {
    "tags": []
   },
   "outputs": [],
   "source": [
    "!rm -rf {DIR}\n",
    "!mkdir -p {DIR}"
   ]
  },
  {
   "cell_type": "markdown",
   "id": "d5815579",
   "metadata": {},
   "source": [
    "---\n",
    "## Create Dataset (link to BigQuery table)"
   ]
  },
  {
   "cell_type": "markdown",
   "id": "fd154aaf-95c8-4ce2-aa3d-8cd335ddbc62",
   "metadata": {},
   "source": [
    "### Explanation of Using Vertex AI Dataset Over Directly Using BigQuery Dataset\n",
    "- Seamless Integration and Preprocessing : By creating a dataset in Vertex AI, you enable seamless integration with other Vertex AI tools and services. This ensures that data is correctly formatted and optimized for machine learning tasks within Vertex AI.\n",
    "- Automated Preprocessing : Vertex AI AutoML handles much of the preprocessing required for machine learning automatically. This includes handling missing values, normalizing data, and encoding categorical variables. Directly using a BigQuery dataset would require manual preprocessing.\n",
    "\n",
    "In summary, creating a dataset in Vertex AI provides a robust and integrated environment for machine learning that enhances preprocessing, training, and management capabilities. It leverages the power of BigQuery for data storage while taking advantage of Vertex AI’s advanced ML features, leading to more efficient and effective model development and deployment.\n",
    "\n"
   ]
  },
  {
   "cell_type": "code",
   "execution_count": 12,
   "id": "8ef3b1e3",
   "metadata": {
    "tags": []
   },
   "outputs": [
    {
     "name": "stdout",
     "output_type": "stream",
     "text": [
      "Creating TabularDataset\n",
      "Create TabularDataset backing LRO: projects/292219499736/locations/us-central1/datasets/7675905078271672320/operations/2847106504526397440\n",
      "TabularDataset created. Resource name: projects/292219499736/locations/us-central1/datasets/7675905078271672320\n",
      "To use this TabularDataset in another session:\n",
      "ds = aiplatform.TabularDataset('projects/292219499736/locations/us-central1/datasets/7675905078271672320')\n"
     ]
    }
   ],
   "source": [
    "# Create a dataset in Vertex AI AutoML by linking it to the prepped BigQuery table.\n",
    "# This step creates a dataset in Vertex AI by linking it to the prepped BigQuery table.\n",
    "# The data remains stored in BigQuery, while Vertex AI handles the compute tasks for training and deploying the model.\n",
    "\n",
    "\n",
    "dataset = aiplatform.TabularDataset.create(\n",
    "    display_name = f'{NOTEBOOK}_{BQ_TABLE}_{TIMESTAMP}', \n",
    "    bq_source = f'bq://{BQ_PROJECT}.{BQ_DATASET}.{BQ_TABLE}_prepped',\n",
    "    labels = {'notebook':f'{NOTEBOOK}'}\n",
    ")"
   ]
  },
  {
   "cell_type": "markdown",
   "id": "46b48275",
   "metadata": {},
   "source": [
    "### Train Model with AutoML"
   ]
  },
  {
   "cell_type": "code",
   "execution_count": 16,
   "id": "51634455",
   "metadata": {
    "tags": []
   },
   "outputs": [],
   "source": [
    "# Define column specifications by excluding omitted variables, the target variable, and the split column.\n",
    "# This ensures the model focuses only on relevant features.\n",
    "\n",
    "column_specs = list(set(dataset.column_names) - set(VAR_OMIT.split()) - set([VAR_TARGET, 'splits']))"
   ]
  },
  {
   "cell_type": "code",
   "execution_count": 18,
   "id": "3115cad7",
   "metadata": {
    "tags": []
   },
   "outputs": [],
   "source": [
    "# Assign default type 'auto' to all columns\n",
    "# This allows AutoML to automatically infer the data type and handle preprocessing.\n",
    "\n",
    "column_specs = dict.fromkeys(column_specs, 'auto')"
   ]
  },
  {
   "cell_type": "markdown",
   "id": "da9ce943",
   "metadata": {},
   "source": [
    "Define a Job:\n",
    "- Consider Weighting : : Adjusts for class imbalance by assigning weights to classes.\n",
    "- Model Type: : Specifies the type of model (e.g., classification, regression).\n",
    "- Optimization Objective: Defines the metric to optimize (e.g., AUC for binary classification). For more details , refer to \"Understanding Machine Learning Objectives for Imbalanced Datasets\" section of  The FraudFix Use Case PDF.\n",
    "\n",
    "https://googleapis.dev/python/aiplatform/latest/aiplatform.html#google.cloud.aiplatform.AutoMLTabularTrainingJob"
   ]
  },
  {
   "cell_type": "code",
   "execution_count": 19,
   "id": "2ada2e66",
   "metadata": {
    "tags": []
   },
   "outputs": [],
   "source": [
    "# Train Model with AutoML\n",
    "# Vertex AI AutoML uses the linked dataset to train the model. The compute resources for training are provided by Vertex AI.\n",
    "\n",
    "tabular_classification_job = aiplatform.AutoMLTabularTrainingJob(\n",
    "    display_name = f'{NOTEBOOK}_{BQ_TABLE}_{TIMESTAMP}',\n",
    "    optimization_prediction_type = 'classification',\n",
    "    optimization_objective = 'maximize-au-prc',\n",
    "    column_specs = column_specs,\n",
    "    labels = {'notebook':f'{NOTEBOOK}'}\n",
    ")"
   ]
  },
  {
   "cell_type": "code",
   "execution_count": null,
   "id": "d3c1a2f4",
   "metadata": {
    "scrolled": true,
    "tags": []
   },
   "outputs": [],
   "source": [
    "# Run the training job\n",
    "# this job would take +2 hours,  depending on your infrastcuture\n",
    "model = tabular_classification_job.run(\n",
    "    dataset = dataset,\n",
    "    target_column = VAR_TARGET,\n",
    "    predefined_split_column_name = 'splits',\n",
    "    #    training_fraction_split = 0.8,\n",
    "    #    validation_fraction_split = 0.1,\n",
    "    #    test_fraction_split = 0.1,\n",
    "    budget_milli_node_hours = 1000,\n",
    "    model_display_name = f'{NOTEBOOK}_{BQ_TABLE}_{TIMESTAMP}',\n",
    "    disable_early_stopping = False,\n",
    "    model_labels = {'notebook':f'{NOTEBOOK}'}\n",
    ")"
   ]
  },
  {
   "cell_type": "markdown",
   "id": "29723311-0089-4b50-a189-9340d4f52bc2",
   "metadata": {},
   "source": [
    "## **For the remaining commands in the notebook: Since the pipeline job takes a significant amount of time to complete, we will demonstrate the results of the following commands on stage.**"
   ]
  },
  {
   "cell_type": "markdown",
   "id": "0523ffaa-9dfb-41cb-b7b5-6cc6ddae1613",
   "metadata": {
    "tags": []
   },
   "source": [
    "---\n",
    "## Evaluation\n",
    "While the model above was trained using AutoML with the API, it is still possible to review the evaluation metrics directly in the Google Cloud Console.  Just visit the Models section of Vertex AI service and select the model and it will present the evaluation metrics with many helpful visuals.\n",
    "\n",
    "It is also possible to retrieve the evaluation metrics for you model using the API.  This section shows how to use the API.\n"
   ]
  },
  {
   "cell_type": "markdown",
   "id": "a106b740-1d3b-43b5-ac3d-311fb298b2bf",
   "metadata": {},
   "source": [
    "Setup a model client for the model create by this notebook:"
   ]
  },
  {
   "cell_type": "code",
   "execution_count": 22,
   "id": "a4f7b61b-ad0f-487b-8dc6-ac8ed12e6afb",
   "metadata": {
    "tags": []
   },
   "outputs": [
    {
     "data": {
      "text/plain": [
       "'projects/292219499736/locations/us-central1/models/7740686104356978688'"
      ]
     },
     "execution_count": 22,
     "metadata": {},
     "output_type": "execute_result"
    }
   ],
   "source": [
    "# Print model.resource_name \n",
    "# If for any reason, the model.resource_name is not set , then set it with the actual resource name of your trained model. \n",
    "# This resource name uniquely identifies your model in Vertex AI.\n",
    "\n",
    "model.resource_name"
   ]
  },
  {
   "cell_type": "code",
   "execution_count": 23,
   "id": "02bbdfaa-75dc-4482-8781-d73f0043aaf9",
   "metadata": {
    "tags": []
   },
   "outputs": [],
   "source": [
    "model_client = aiplatform.gapic.ModelServiceClient(\n",
    "    client_options = {\n",
    "        'api_endpoint' : f'{REGION}-aiplatform.googleapis.com'\n",
    "    }\n",
    ")"
   ]
  },
  {
   "cell_type": "markdown",
   "id": "71227e04-8bb0-46d5-862e-3fddfe0361ae",
   "metadata": {},
   "source": [
    "Retrives the aggregate model evalution metrics for the model as a whole.  First, use `.list_model_evaluations` to retrieve the evaluation id, then use `.get_model_evaluation` for the evaluation id:"
   ]
  },
  {
   "cell_type": "code",
   "execution_count": 24,
   "id": "974b597e-f01d-4147-a824-9a6ac8246a1f",
   "metadata": {
    "tags": []
   },
   "outputs": [],
   "source": [
    "# List model evaluations and get the first evaluation ID\n",
    "# list_model_evaluations : This method lists all evaluations associated with the specified model. \n",
    "# Evaluations contain metrics and other information about the model's performance.\n",
    "\n",
    "evaluations = model_client.list_model_evaluations(parent = model.resource_name)\n",
    "\n",
    "evals = iter(evaluations)\n",
    "eval_id = next(evals).name\n",
    "\n",
    "# get_model_evaluation : Once you have the evaluation ID, use this method to retrieve detailed evaluation metrics.\n",
    "\n",
    "geteval = model_client.get_model_evaluation(name = eval_id)"
   ]
  },
  {
   "cell_type": "markdown",
   "id": "39aa9551-2e4a-4673-b0d5-1ddec1233e0e",
   "metadata": {},
   "source": [
    "Review several of the metrics include in the evaluation.  Also, compare these to the results in the console view."
   ]
  },
  {
   "cell_type": "code",
   "execution_count": 25,
   "id": "8dd6e04f-c0ec-4ad1-a8be-460cddcb0267",
   "metadata": {
    "tags": []
   },
   "outputs": [
    {
     "data": {
      "text/plain": [
       "0.99986017"
      ]
     },
     "execution_count": 25,
     "metadata": {},
     "output_type": "execute_result"
    }
   ],
   "source": [
    "# Access and print the AUC metric\n",
    " # Area under the Precision-Recall curve\n",
    "#  Retrieve specific metrics such as AUC (Area Under the Precision-Recall Curve) and confusion matrix. These metrics help assess the model's performance.\n",
    "geteval.metrics['auPrc']"
   ]
  },
  {
   "cell_type": "markdown",
   "id": "5f983951-7597-463f-b029-031c38e6b2ad",
   "metadata": {},
   "source": [
    "##### - **Interpretation of the Results**:\n",
    "**Example : (Your results could be different)**\n",
    "\n",
    "An AUC-PR value of `0.99986017` indicates an excellent model performance. The closer the value is to `1.0`, the better the model is at distinguishing between the positive and negative classes.\n"
   ]
  },
  {
   "cell_type": "code",
   "execution_count": 26,
   "id": "edd9892b-eeac-4a64-aa9b-68a7a45a3e76",
   "metadata": {
    "tags": []
   },
   "outputs": [
    {
     "name": "stdout",
     "output_type": "stream",
     "text": [
      "True Label =  0  has Predicted labels =  [28132.0, 1.0, 0.0]\n",
      "True Label =  1  has Predicted labels =  [7.0, 13.0, 0.0]\n",
      "True Label =  DROPPED  has Predicted labels =  [0.0, 0.0, 0.0]\n"
     ]
    }
   ],
   "source": [
    "# Access and print the confusion matrix\n",
    "# Print the confusion matrix, which shows how often each class is predicted correctly versus incorrectly. \n",
    "# This is useful for understanding the model's accuracy for each class.\n",
    "\n",
    "for i in range(len(geteval.metrics['confusionMatrix']['annotationSpecs'])):\n",
    "    print('True Label = ', geteval.metrics['confusionMatrix']['annotationSpecs'][i]['displayName'], ' has Predicted labels = ', geteval.metrics['confusionMatrix']['rows'][i])"
   ]
  },
  {
   "cell_type": "markdown",
   "id": "5838ddd5-51b9-4a04-acee-18da385924f8",
   "metadata": {},
   "source": [
    "##### - **Interpretation of the Results**:\n",
    "**Example : (Your results could be different)**\n",
    "  - **True Label = 0**: Out of instances truly labeled as `0` (negative class), `28,132` were correctly predicted as `0`, and `1` was incorrectly predicted as `1`.\n",
    "  - **True Label = 1**: Out of instances truly labeled as `1` (positive class), `7` were incorrectly predicted as `0`, and `13` were correctly predicted as `1`.\n",
    "  - **True Label = DROPPED**: There are no instances with this label, hence all values are `0`. (No instances were actually labeled as \"DROPPED\", indicating that this label was not present or was excluded.)\n",
    "This confusion matrix shows that the model has a high number of true positives and true negatives, indicating good predictive performance, especially in distinguishing the negative class.\n"
   ]
  },
  {
   "cell_type": "markdown",
   "id": "2266afe6-be3f-4565-afd9-cb839682df2c",
   "metadata": {},
   "source": [
    "For models with labels you can retrieve the evaluation metrics for each slice of the model:"
   ]
  },
  {
   "cell_type": "code",
   "execution_count": 27,
   "id": "045a6f0d-ab29-4825-a29e-335f5a1727e1",
   "metadata": {
    "tags": []
   },
   "outputs": [],
   "source": [
    "# list_model_evaluation_slices : Retrieve evaluation metrics for different slices of the model. \n",
    "# Slices can be used to evaluate model performance on different subsets of the data, such as different demographic groups.\n",
    "\n",
    "slices = model_client.list_model_evaluation_slices(parent = eval_id)"
   ]
  },
  {
   "cell_type": "code",
   "execution_count": 28,
   "id": "4b7b5c5a-d43c-4c77-8806-fa92f6438e19",
   "metadata": {
    "tags": []
   },
   "outputs": [
    {
     "name": "stdout",
     "output_type": "stream",
     "text": [
      "Label =  1 has auPrc =  0.7986504\n",
      "Label =  0 has auPrc =  0.99989307\n"
     ]
    }
   ],
   "source": [
    "# Iterate through each slice and print its metrics\n",
    "\n",
    "for slice in slices:\n",
    "    print('Label = ', slice.slice_.value, 'has auPrc = ', slice.metrics['auPrc'])"
   ]
  },
  {
   "cell_type": "markdown",
   "id": "cd293936-5716-4234-89d2-7bdf9a71b1bb",
   "metadata": {},
   "source": [
    "##### - **Interpretation of the Results**: \n",
    "**Example : (Your results could be different)**\n",
    "  - **Label = 1 (Positive Class)**: The AUC-PR for the positive class is `0.7986504`, indicating good but not perfect performance in predicting the positive class.\n",
    "  - **Label = 0 (Negative Class)**: The AUC-PR for the negative class is `0.99989307`, indicating excellent performance in predicting the negative class.\n"
   ]
  },
  {
   "cell_type": "markdown",
   "id": "e4aad16e-eb65-4667-9813-a3ae762b3fe4",
   "metadata": {},
   "source": [
    "#### In addition to using the API, Vertex AI's Google Cloud Console offers rich visualizations of these metrics, making it easier to understand and interpret the results.\n"
   ]
  },
  {
   "cell_type": "markdown",
   "id": "3ef3a49d",
   "metadata": {},
   "source": [
    "## Endpoint and Deployment\n",
    "This section creates an endpoint in Vertex AI where the trained model will be deployed.\n",
    "An endpoint allows you to serve predictions from your trained model.\n"
   ]
  },
  {
   "cell_type": "code",
   "execution_count": 29,
   "id": "f2e1d5e5",
   "metadata": {
    "tags": []
   },
   "outputs": [
    {
     "name": "stdout",
     "output_type": "stream",
     "text": [
      "Creating Endpoint\n",
      "Create Endpoint backing LRO: projects/292219499736/locations/us-central1/endpoints/1225601422226096128/operations/4101103914051436544\n",
      "Endpoint created. Resource name: projects/292219499736/locations/us-central1/endpoints/1225601422226096128\n",
      "To use this Endpoint in another session:\n",
      "endpoint = aiplatform.Endpoint('projects/292219499736/locations/us-central1/endpoints/1225601422226096128')\n"
     ]
    }
   ],
   "source": [
    "# max 10 min\n",
    "# This step initializes an endpoint where the trained model will be deployed. \n",
    "# The endpoint is a managed service that allows you to serve real-time predictions.\n",
    "#  Labels are used for organizing and managing resources. Here, the notebook identifier is used as a label for easy tracking.\n",
    "\n",
    "endpoint = aiplatform.Endpoint.create(\n",
    "    display_name = f'{NOTEBOOK}_{BQ_TABLE}_{TIMESTAMP}',\n",
    "    labels = {'notebook':f'{NOTEBOOK}'}\n",
    ")"
   ]
  },
  {
   "cell_type": "code",
   "execution_count": 30,
   "id": "7300dff3",
   "metadata": {
    "tags": []
   },
   "outputs": [
    {
     "name": "stdout",
     "output_type": "stream",
     "text": [
      "Deploying Model projects/292219499736/locations/us-central1/models/7740686104356978688 to Endpoint : projects/292219499736/locations/us-central1/endpoints/1225601422226096128\n",
      "Deploy Endpoint model backing LRO: projects/292219499736/locations/us-central1/endpoints/1225601422226096128/operations/7785048409240502272\n",
      "Endpoint model deployed. Resource name: projects/292219499736/locations/us-central1/endpoints/1225601422226096128\n"
     ]
    }
   ],
   "source": [
    "# takes 45 min\n",
    "# Deploy the trained model to the created endpoint. This allows the model to serve predictions.\n",
    "# Deploy method: This command deploys the trained model to the previously created endpoint. \n",
    "# Traffic Percentage :  Specifies the amount of traffic (requests) that should be directed to this model. Here, it's set to 100%, meaning all requests will be handled by this model.\n",
    "# Machine Type : Specifies the type of machine to be used for serving predictions. This is defined by `DEPLOY_COMPUTE`.\n",
    "# Replica Count : Determines the number of model instances to be deployed for serving predictions. This ensures high availability and scalability.\n",
    "\n",
    "endpoint.deploy(\n",
    "    model = model,\n",
    "    deployed_model_display_name = f'{NOTEBOOK}_{BQ_TABLE}_{TIMESTAMP}',\n",
    "    traffic_percentage = 100,\n",
    "    machine_type = DEPLOY_COMPUTE,\n",
    "    min_replica_count = 1,\n",
    "    max_replica_count = 1\n",
    ")"
   ]
  },
  {
   "cell_type": "markdown",
   "id": "a15d96ee",
   "metadata": {},
   "source": [
    "---\n",
    "## Prediction"
   ]
  },
  {
   "cell_type": "markdown",
   "id": "13e324b8",
   "metadata": {},
   "source": [
    "### Prepare a record for prediction: instance and parameters lists"
   ]
  },
  {
   "cell_type": "code",
   "execution_count": 31,
   "id": "7148bd5b",
   "metadata": {
    "tags": []
   },
   "outputs": [],
   "source": [
    "# Prepare a record for prediction: instance and parameters lists\n",
    "# Fetch a sample of test data to use for prediction\n",
    "# This command fetches a subset of the test data from BigQuery to be used for making predictions with the deployed model.\n",
    "\n",
    "pred = bigquery.query(query = f\"SELECT * FROM {BQ_PROJECT}.{BQ_DATASET}.{BQ_TABLE}_prepped WHERE splits='TEST' LIMIT 10\").to_dataframe()"
   ]
  },
  {
   "cell_type": "code",
   "execution_count": 32,
   "id": "9055ac97",
   "metadata": {
    "tags": []
   },
   "outputs": [
    {
     "data": {
      "text/html": [
       "<div>\n",
       "<style scoped>\n",
       "    .dataframe tbody tr th:only-of-type {\n",
       "        vertical-align: middle;\n",
       "    }\n",
       "\n",
       "    .dataframe tbody tr th {\n",
       "        vertical-align: top;\n",
       "    }\n",
       "\n",
       "    .dataframe thead th {\n",
       "        text-align: right;\n",
       "    }\n",
       "</style>\n",
       "<table border=\"1\" class=\"dataframe\">\n",
       "  <thead>\n",
       "    <tr style=\"text-align: right;\">\n",
       "      <th></th>\n",
       "      <th>Time</th>\n",
       "      <th>V1</th>\n",
       "      <th>V2</th>\n",
       "      <th>V3</th>\n",
       "      <th>V4</th>\n",
       "      <th>V5</th>\n",
       "      <th>V6</th>\n",
       "      <th>V7</th>\n",
       "      <th>V8</th>\n",
       "      <th>V9</th>\n",
       "      <th>...</th>\n",
       "      <th>V25</th>\n",
       "      <th>V26</th>\n",
       "      <th>V27</th>\n",
       "      <th>V28</th>\n",
       "      <th>Amount</th>\n",
       "      <th>Class</th>\n",
       "      <th>Feedback</th>\n",
       "      <th>transaction_id</th>\n",
       "      <th>splits</th>\n",
       "      <th>service_account_email</th>\n",
       "    </tr>\n",
       "  </thead>\n",
       "  <tbody>\n",
       "    <tr>\n",
       "      <th>0</th>\n",
       "      <td>66341.0</td>\n",
       "      <td>-1.975549</td>\n",
       "      <td>-1.606799</td>\n",
       "      <td>0.081444</td>\n",
       "      <td>-2.159326</td>\n",
       "      <td>0.589567</td>\n",
       "      <td>0.334022</td>\n",
       "      <td>0.091121</td>\n",
       "      <td>0.745302</td>\n",
       "      <td>-1.320319</td>\n",
       "      <td>...</td>\n",
       "      <td>-0.817125</td>\n",
       "      <td>1.139974</td>\n",
       "      <td>-0.061121</td>\n",
       "      <td>-0.101225</td>\n",
       "      <td>200.5</td>\n",
       "      <td>0</td>\n",
       "      <td>very satisfied.</td>\n",
       "      <td>6a487bc0-864e-476a-89a3-711a95c3bf40</td>\n",
       "      <td>TEST</td>\n",
       "      <td>292219499736-compute@developer.gserviceaccount...</td>\n",
       "    </tr>\n",
       "    <tr>\n",
       "      <th>1</th>\n",
       "      <td>138794.0</td>\n",
       "      <td>1.556636</td>\n",
       "      <td>-0.858618</td>\n",
       "      <td>-1.541472</td>\n",
       "      <td>1.235769</td>\n",
       "      <td>0.142803</td>\n",
       "      <td>0.172018</td>\n",
       "      <td>0.186438</td>\n",
       "      <td>-0.093988</td>\n",
       "      <td>0.434570</td>\n",
       "      <td>...</td>\n",
       "      <td>0.427739</td>\n",
       "      <td>-0.227500</td>\n",
       "      <td>-0.026433</td>\n",
       "      <td>-0.027460</td>\n",
       "      <td>250.0</td>\n",
       "      <td>0</td>\n",
       "      <td>very satisfied.</td>\n",
       "      <td>381e5380-80f7-4b4c-b9f7-de89eda68b89</td>\n",
       "      <td>TEST</td>\n",
       "      <td>292219499736-compute@developer.gserviceaccount...</td>\n",
       "    </tr>\n",
       "    <tr>\n",
       "      <th>2</th>\n",
       "      <td>100922.0</td>\n",
       "      <td>1.923291</td>\n",
       "      <td>-0.511650</td>\n",
       "      <td>0.217122</td>\n",
       "      <td>0.583403</td>\n",
       "      <td>-1.043504</td>\n",
       "      <td>-0.428347</td>\n",
       "      <td>-0.946888</td>\n",
       "      <td>-0.055398</td>\n",
       "      <td>2.688932</td>\n",
       "      <td>...</td>\n",
       "      <td>-0.628523</td>\n",
       "      <td>0.441857</td>\n",
       "      <td>-0.045307</td>\n",
       "      <td>-0.039834</td>\n",
       "      <td>39.0</td>\n",
       "      <td>0</td>\n",
       "      <td>very satisfied.</td>\n",
       "      <td>90c3c8af-c5bb-4f4b-9735-a30555ba12c6</td>\n",
       "      <td>TEST</td>\n",
       "      <td>292219499736-compute@developer.gserviceaccount...</td>\n",
       "    </tr>\n",
       "    <tr>\n",
       "      <th>3</th>\n",
       "      <td>151295.0</td>\n",
       "      <td>-2.663683</td>\n",
       "      <td>2.410267</td>\n",
       "      <td>-0.956647</td>\n",
       "      <td>-1.124388</td>\n",
       "      <td>-0.477937</td>\n",
       "      <td>-0.984630</td>\n",
       "      <td>0.318403</td>\n",
       "      <td>0.709386</td>\n",
       "      <td>1.257919</td>\n",
       "      <td>...</td>\n",
       "      <td>0.370005</td>\n",
       "      <td>0.166635</td>\n",
       "      <td>0.867921</td>\n",
       "      <td>0.614288</td>\n",
       "      <td>20.0</td>\n",
       "      <td>0</td>\n",
       "      <td>very satisfied.</td>\n",
       "      <td>3f04990a-c791-43b6-9af6-78d786fe3ef6</td>\n",
       "      <td>TEST</td>\n",
       "      <td>292219499736-compute@developer.gserviceaccount...</td>\n",
       "    </tr>\n",
       "  </tbody>\n",
       "</table>\n",
       "<p>4 rows × 35 columns</p>\n",
       "</div>"
      ],
      "text/plain": [
       "       Time        V1        V2        V3        V4        V5        V6  \\\n",
       "0   66341.0 -1.975549 -1.606799  0.081444 -2.159326  0.589567  0.334022   \n",
       "1  138794.0  1.556636 -0.858618 -1.541472  1.235769  0.142803  0.172018   \n",
       "2  100922.0  1.923291 -0.511650  0.217122  0.583403 -1.043504 -0.428347   \n",
       "3  151295.0 -2.663683  2.410267 -0.956647 -1.124388 -0.477937 -0.984630   \n",
       "\n",
       "         V7        V8        V9  ...       V25       V26       V27       V28  \\\n",
       "0  0.091121  0.745302 -1.320319  ... -0.817125  1.139974 -0.061121 -0.101225   \n",
       "1  0.186438 -0.093988  0.434570  ...  0.427739 -0.227500 -0.026433 -0.027460   \n",
       "2 -0.946888 -0.055398  2.688932  ... -0.628523  0.441857 -0.045307 -0.039834   \n",
       "3  0.318403  0.709386  1.257919  ...  0.370005  0.166635  0.867921  0.614288   \n",
       "\n",
       "   Amount  Class          Feedback                        transaction_id  \\\n",
       "0   200.5      0   very satisfied.  6a487bc0-864e-476a-89a3-711a95c3bf40   \n",
       "1   250.0      0   very satisfied.  381e5380-80f7-4b4c-b9f7-de89eda68b89   \n",
       "2    39.0      0   very satisfied.  90c3c8af-c5bb-4f4b-9735-a30555ba12c6   \n",
       "3    20.0      0   very satisfied.  3f04990a-c791-43b6-9af6-78d786fe3ef6   \n",
       "\n",
       "   splits                              service_account_email  \n",
       "0    TEST  292219499736-compute@developer.gserviceaccount...  \n",
       "1    TEST  292219499736-compute@developer.gserviceaccount...  \n",
       "2    TEST  292219499736-compute@developer.gserviceaccount...  \n",
       "3    TEST  292219499736-compute@developer.gserviceaccount...  \n",
       "\n",
       "[4 rows x 35 columns]"
      ]
     },
     "execution_count": 32,
     "metadata": {},
     "output_type": "execute_result"
    }
   ],
   "source": [
    "# Display the first few rows of the prediction data\n",
    "# The `head()` function is used to display the first few rows of the fetched data to verify its structure and contents.\n",
    "\n",
    "pred.head(4)"
   ]
  },
  {
   "cell_type": "code",
   "execution_count": 33,
   "id": "f2f80ac2",
   "metadata": {
    "tags": []
   },
   "outputs": [
    {
     "data": {
      "text/plain": [
       "{'Time': 66341.0,\n",
       " 'V1': -1.9755488634109497,\n",
       " 'V2': -1.6067992448806763,\n",
       " 'V3': 0.08144358545541763,\n",
       " 'V4': -2.1593263149261475,\n",
       " 'V5': 0.5895673036575317,\n",
       " 'V6': 0.3340217173099518,\n",
       " 'V7': 0.0911206379532814,\n",
       " 'V8': 0.7453022599220276,\n",
       " 'V9': -1.320319414138794,\n",
       " 'V10': -0.8474969267845154,\n",
       " 'V11': -0.21961548924446106,\n",
       " 'V12': 0.6278647780418396,\n",
       " 'V13': 0.5759356021881104,\n",
       " 'V14': 0.2245824933052063,\n",
       " 'V15': -0.3175048232078552,\n",
       " 'V16': -2.3535516262054443,\n",
       " 'V17': 1.0250015258789062,\n",
       " 'V18': -1.37712824344635,\n",
       " 'V19': -3.5953450202941895,\n",
       " 'V20': -0.11362418532371521,\n",
       " 'V21': 0.07117960602045059,\n",
       " 'V22': -0.009378469549119473,\n",
       " 'V23': 0.5989304780960083,\n",
       " 'V24': -0.9059162735939026,\n",
       " 'V25': -0.8171247243881226,\n",
       " 'V26': 1.139973521232605,\n",
       " 'V27': -0.06112143024802208,\n",
       " 'V28': -0.10122473537921906,\n",
       " 'Amount': 200.5}"
      ]
     },
     "execution_count": 33,
     "metadata": {},
     "output_type": "execute_result"
    }
   ],
   "source": [
    "# Prepare a record for prediction: instance and parameters lists\n",
    "\n",
    "# Select the necessary columns for prediction and convert the data to the required format.\n",
    "# This step filters out columns that should not be included in the prediction request.\n",
    "# This step selects the necessary columns from the test dataset, excluding omitted variables, the target variable, and the split column.\n",
    "# The selected data is converted to a dictionary format, which is required for the prediction request.\n",
    "\n",
    "newob = pred[pred.columns[~pred.columns.isin(VAR_OMIT.split()+[VAR_TARGET, 'splits'])]].to_dict(orient='records')[0]\n",
    "\n",
    "# Display the prepared observation for prediction\n",
    "newob"
   ]
  },
  {
   "cell_type": "markdown",
   "id": "64909cc0",
   "metadata": {},
   "source": [
    "Need to understand the format of variables that the predictions expect.  AutoML may convert the type of some variables. The following cells retrieve the model from the endpoint and its schemata:"
   ]
  },
  {
   "cell_type": "code",
   "execution_count": 34,
   "id": "44a386d9",
   "metadata": {
    "tags": []
   },
   "outputs": [],
   "source": [
    "# Convert the prepared observation to JSON format required by the prediction endpoint.\n",
    "#  The prepared observation is converted to JSON format using `json_format.ParseDict()`. This format is required by the Vertex AI prediction endpoint.\n",
    "# An empty parameters dictionary is created, which can be used if the prediction request requires additional parameters.\n",
    "\n",
    "instances = [json_format.ParseDict(newob, Value())]\n",
    "parameters = json_format.ParseDict({}, Value())"
   ]
  },
  {
   "cell_type": "markdown",
   "id": "6fa715ce",
   "metadata": {},
   "source": [
    "### Get Predictions: Python Client"
   ]
  },
  {
   "cell_type": "code",
   "execution_count": 35,
   "id": "b6f11350",
   "metadata": {
    "tags": []
   },
   "outputs": [],
   "source": [
    "# Get Predictions: Python Client\n",
    "# Make a prediction request to the deployed model using the prepared instances.\n",
    "# The `endpoint.predict()` method is called with the prepared instances and parameters. This sends the data to the deployed model and retrieves the prediction results.\n",
    "\n",
    "prediction = endpoint.predict(instances=instances, parameters=parameters)"
   ]
  },
  {
   "cell_type": "code",
   "execution_count": 36,
   "id": "063eba38",
   "metadata": {
    "tags": []
   },
   "outputs": [
    {
     "data": {
      "text/plain": [
       "Prediction(predictions=[{'classes': ['0', '1'], 'scores': [0.9999939799308777, 6.062371539883316e-06]}], deployed_model_id='5284201206044950528', metadata=None, model_version_id='1', model_resource_name='projects/292219499736/locations/us-central1/models/7740686104356978688', explanations=None)"
      ]
     },
     "execution_count": 36,
     "metadata": {},
     "output_type": "execute_result"
    }
   ],
   "source": [
    "# Display the prediction results\n",
    "# The prediction results are displayed, showing the predicted classes and their corresponding scores.\n",
    "prediction"
   ]
  },
  {
   "cell_type": "code",
   "execution_count": 37,
   "id": "30a5f2c7",
   "metadata": {
    "tags": []
   },
   "outputs": [
    {
     "data": {
      "text/plain": [
       "'0'"
      ]
     },
     "execution_count": 37,
     "metadata": {},
     "output_type": "execute_result"
    }
   ],
   "source": [
    "# Shows the predicted class\n",
    "\n",
    "prediction.predictions[0]['classes'][np.argmax(prediction.predictions[0]['scores'])]"
   ]
  },
  {
   "cell_type": "markdown",
   "id": "37ff1640",
   "metadata": {},
   "source": [
    "### Get Predictions: REST"
   ]
  },
  {
   "cell_type": "code",
   "execution_count": 40,
   "id": "7c268d6d",
   "metadata": {
    "tags": []
   },
   "outputs": [],
   "source": [
    "# Write the prediction request to a JSON file.\n",
    "# This step creates a JSON file that contains the input data for the prediction request.\n",
    "# The prediction input data is written to a JSON file. This file will be used to make a prediction request via the REST API.\n",
    "# The file is saved in a specified directory (`DIR`) with the name `request.json`.\n",
    "\n",
    "with open(f'{DIR}/request.json','w') as file:\n",
    "    file.write(json.dumps({\"instances\": [newob]}))"
   ]
  },
  {
   "cell_type": "code",
   "execution_count": 41,
   "id": "2edca20a",
   "metadata": {
    "tags": []
   },
   "outputs": [
    {
     "name": "stdout",
     "output_type": "stream",
     "text": [
      "{\n",
      "  \"predictions\": [\n",
      "    {\n",
      "      \"scores\": [\n",
      "        0.99999397993087769,\n",
      "        6.0623715398833164e-06\n",
      "      ],\n",
      "      \"classes\": [\n",
      "        \"0\",\n",
      "        \"1\"\n",
      "      ]\n",
      "    }\n",
      "  ],\n",
      "  \"deployedModelId\": \"5284201206044950528\",\n",
      "  \"model\": \"projects/292219499736/locations/us-central1/models/7740686104356978688\",\n",
      "  \"modelDisplayName\": \"02_ulb_fraud_detection_20240527103158\",\n",
      "  \"modelVersionId\": \"1\"\n",
      "}\n"
     ]
    }
   ],
   "source": [
    "# Make a prediction request using curl and REST API.\n",
    "#  This command sends the JSON file with the input data to the Vertex AI prediction endpoint.\n",
    "# curl Command: This command uses `curl` to make an HTTP POST request to the Vertex AI prediction endpoint.\n",
    "# Authorization Header : The `Authorization` header includes a bearer token obtained using `gcloud auth`. This token authenticates the request.\n",
    "# Content-Type Header :  Specifies that the content type of the request is JSON.\n",
    "# Data: The JSON file containing the prediction input data is sent in the request body.\n",
    "# Endpoint URL : The URL for the Vertex AI prediction endpoint is constructed using the region and endpoint resource name.\n",
    "\n",
    "!curl -X POST \\\n",
    "-H \"Authorization: Bearer \"$(gcloud auth application-default print-access-token) \\\n",
    "-H \"Content-Type: application/json; charset=utf-8\" \\\n",
    "-d @{DIR}/request.json \\\n",
    "https://{REGION}-aiplatform.googleapis.com/v1/{endpoint.resource_name}:predict"
   ]
  },
  {
   "cell_type": "markdown",
   "id": "17d3a22b",
   "metadata": {},
   "source": [
    "### Get Predictions: gcloud (CLI)"
   ]
  },
  {
   "cell_type": "code",
   "execution_count": 42,
   "id": "2621a2e3",
   "metadata": {
    "tags": []
   },
   "outputs": [
    {
     "name": "stdout",
     "output_type": "stream",
     "text": [
      "Using endpoint [https://us-central1-prediction-aiplatform.googleapis.com/]\n",
      "[{'classes': ['0', '1'], 'scores': [0.9999939799308777, 6.062371539883316e-06]}]\n"
     ]
    }
   ],
   "source": [
    "# Make a prediction request using the gcloud CLI.\n",
    "#  This command uses the gcloud CLI to send the JSON file with the input data to the Vertex AI prediction endpoint.\n",
    "# The `gcloud beta ai endpoints predict` command is used to make a prediction request.\n",
    "# Endpoint ID : The endpoint ID is extracted from the endpoint resource name.\n",
    "# Region : Specifies the region where the endpoint is deployed.\n",
    "# JSON Request : The path to the JSON file containing the prediction input data is provided.\n",
    "\n",
    "!gcloud beta ai endpoints predict {endpoint.name.rsplit('/',1)[-1]} --region={REGION} --json-request={DIR}/request.json"
   ]
  },
  {
   "cell_type": "markdown",
   "id": "aa2dbae2",
   "metadata": {},
   "source": [
    "\n",
    "## Explanations\n",
    "\n",
    "Vertex AI can provide explanations for the predictions made by the model, helping to understand the model's behavior.\n",
    " \n",
    "Interpretation Guide ; The linked guide provides detailed information on interpreting the explanations provided by Vertex AI.\n",
    "https://cloud.google.com/vertex-ai/docs/predictions/interpreting-results-automl#tabular"
   ]
  },
  {
   "cell_type": "code",
   "execution_count": 43,
   "id": "b44aedf4",
   "metadata": {
    "tags": []
   },
   "outputs": [],
   "source": [
    "# Make an explanation request to the endpoint.\n",
    "#  Vertex AI can provide explanations for the predictions, which helps understand the model's decision-making process.\n",
    "# Explain Method : The `endpoint.explain()` method is called with the prediction instances and parameters to retrieve explanations.\n",
    "# \n",
    "explanation = endpoint.explain(instances=instances, parameters=parameters)"
   ]
  },
  {
   "cell_type": "code",
   "execution_count": 44,
   "id": "d64bcf23",
   "metadata": {
    "tags": []
   },
   "outputs": [
    {
     "data": {
      "text/plain": [
       "[{'classes': ['0', '1'],\n",
       "  'scores': [0.9999939799308777, 6.062371539883316e-06]}]"
      ]
     },
     "execution_count": 44,
     "metadata": {},
     "output_type": "execute_result"
    }
   ],
   "source": [
    "# Display the explanation results\n",
    "\n",
    "explanation.predictions"
   ]
  },
  {
   "cell_type": "code",
   "execution_count": 45,
   "id": "5665a357",
   "metadata": {
    "tags": []
   },
   "outputs": [
    {
     "name": "stdout",
     "output_type": "stream",
     "text": [
      "attribution:\n",
      "baseline output 0.9999939799308777\n",
      "instance output 0.9999939799308777\n",
      "output_index [0]\n",
      "output display value 0\n",
      "approximation error 0.008332615072443338\n"
     ]
    }
   ],
   "source": [
    "# Print the detailed explanation attributes.\n",
    "# The explanation includes various attributes that help understand the model's decision-making process.\n",
    "# This code prints detailed attributes of the explanation provided by Vertex AI.\n",
    "\n",
    "print(\"attribution:\")\n",
    "#  The predicted output if no input features were used (baseline).\n",
    "print(\"baseline output\",explanation.explanations[0].attributions[0].baseline_output_value)\n",
    "#  The predicted output for the given input instance.\n",
    "print(\"instance output\",explanation.explanations[0].attributions[0].instance_output_value)\n",
    "# The index of the output in the prediction.\n",
    "print(\"output_index\",explanation.explanations[0].attributions[0].output_index)\n",
    "# A human-readable name for the output.\n",
    "print(\"output display value\",explanation.explanations[0].attributions[0].output_display_name)\n",
    "# The error in the approximation of the explanation.\n",
    "print(\"approximation error\",explanation.explanations[0].attributions[0].approximation_error)"
   ]
  },
  {
   "cell_type": "code",
   "execution_count": 46,
   "id": "f4658234",
   "metadata": {
    "tags": []
   },
   "outputs": [
    {
     "data": {
      "image/png": "[encoded data removed]",
      "text/plain": [
       "<Figure size 900x900 with 1 Axes>"
      ]
     },
     "metadata": {},
     "output_type": "display_data"
    }
   ],
   "source": [
    "# Visualize the Feature Attributions\n",
    "# Import necessary libraries for visualization.\n",
    "import matplotlib.pyplot as plt\n",
    "# Initialize lists to store features and their scores.\n",
    "features = []\n",
    "scores = []\n",
    "# Extract feature attributions from the explanation.\n",
    "for k in explanation.explanations[0].attributions[0].feature_attributions:\n",
    "    features.append(k)\n",
    "    scores.append(explanation.explanations[0].attributions[0].feature_attributions[k])\n",
    "features = [x for _, x in sorted(zip(scores, features))] # Sort the features by their scores for better visualization.\n",
    "scores = sorted(scores)\n",
    "# Create a bar plot to visualize the feature attributions.\n",
    "fig, ax = plt.subplots()\n",
    "fig.set_size_inches(9, 9)\n",
    "ax.barh(features, scores)\n",
    "fig.show()"
   ]
  },
  {
   "cell_type": "markdown",
   "id": "51965d29-a812-411e-9d8b-0738612ac714",
   "metadata": {},
   "source": [
    "####  **Interpretation of the Bar Chart**\n",
    "The Bar Chart above shows the feature attributions for a particular prediction made by the model. Here's a detailed interpretation of the chart:\n",
    "- Horizontal Axis (Attribution Score) : The horizontal axis represents the attribution scores, which indicate the contribution of each feature to the model's prediction.\n",
    "- Positive scores suggest that the feature contributes positively to the prediction (i.e., increasing the likelihood of the predicted class).\n",
    "- Negative scores suggest that the feature contributes negatively to the prediction (i.e., decreasing the likelihood of the predicted class).\n",
    "- The vertical axis lists the features from the dataset.\n",
    "- Each bar corresponds to a feature and its length represents the magnitude of its attribution score.\n",
    "\n",
    "**Example : (Your results could be different)**\n",
    "\n",
    "**Top Contributing Features:**\n",
    "- V17: The feature **V17** has the highest positive attribution score, indicating it is the most influential feature in driving the model's prediction towards the predicted class.\n",
    "- V4 : Similarly, **V4** is also a significant positive contributor.\n",
    "\n",
    "**Features with Lower Impact :**\n",
    "-  Features like **V16** and **V19** have negative attribution scores, indicating they negatively impact the prediction. This means that higher values of these features reduce the likelihood of the predicted class.\n",
    "\n",
    "**Neutral or Low-Impact Features :**\n",
    "- Features closer to zero, such as **V22** and **V20**, have minimal impact on the prediction. They neither strongly support nor oppose the predicted outcome.\n",
    "\n",
    "\n"
   ]
  },
  {
   "cell_type": "markdown",
   "id": "1c214f08",
   "metadata": {},
   "source": [
    "## Batch Predictions: BigQuery Source to BigQuery Destination, with Explanations\n",
    "This section creates a batch prediction job that reads data from a BigQuery table, makes predictions using the deployed model, and writes the results back to BigQuery.\n"
   ]
  },
  {
   "cell_type": "code",
   "execution_count": 47,
   "id": "71448467",
   "metadata": {
    "scrolled": true,
    "tags": []
   },
   "outputs": [
    {
     "name": "stdout",
     "output_type": "stream",
     "text": [
      "Creating BatchPredictionJob\n",
      "BatchPredictionJob created. Resource name: projects/292219499736/locations/us-central1/batchPredictionJobs/7950933927546322944\n",
      "To use this BatchPredictionJob in another session:\n",
      "bpj = aiplatform.BatchPredictionJob('projects/292219499736/locations/us-central1/batchPredictionJobs/7950933927546322944')\n",
      "View Batch Prediction Job:\n",
      "https://console.cloud.google.com/ai/platform/locations/us-central1/batch-predictions/7950933927546322944?project=292219499736\n",
      "BatchPredictionJob projects/292219499736/locations/us-central1/batchPredictionJobs/7950933927546322944 current state:\n",
      "JobState.JOB_STATE_PENDING\n",
      "BatchPredictionJob projects/292219499736/locations/us-central1/batchPredictionJobs/7950933927546322944 current state:\n",
      "JobState.JOB_STATE_PENDING\n",
      "BatchPredictionJob projects/292219499736/locations/us-central1/batchPredictionJobs/7950933927546322944 current state:\n",
      "JobState.JOB_STATE_RUNNING\n",
      "BatchPredictionJob projects/292219499736/locations/us-central1/batchPredictionJobs/7950933927546322944 current state:\n",
      "JobState.JOB_STATE_RUNNING\n",
      "BatchPredictionJob projects/292219499736/locations/us-central1/batchPredictionJobs/7950933927546322944 current state:\n",
      "JobState.JOB_STATE_RUNNING\n",
      "BatchPredictionJob projects/292219499736/locations/us-central1/batchPredictionJobs/7950933927546322944 current state:\n",
      "JobState.JOB_STATE_RUNNING\n",
      "BatchPredictionJob projects/292219499736/locations/us-central1/batchPredictionJobs/7950933927546322944 current state:\n",
      "JobState.JOB_STATE_RUNNING\n",
      "BatchPredictionJob projects/292219499736/locations/us-central1/batchPredictionJobs/7950933927546322944 current state:\n",
      "JobState.JOB_STATE_RUNNING\n",
      "BatchPredictionJob projects/292219499736/locations/us-central1/batchPredictionJobs/7950933927546322944 current state:\n",
      "JobState.JOB_STATE_RUNNING\n",
      "BatchPredictionJob projects/292219499736/locations/us-central1/batchPredictionJobs/7950933927546322944 current state:\n",
      "JobState.JOB_STATE_RUNNING\n",
      "BatchPredictionJob projects/292219499736/locations/us-central1/batchPredictionJobs/7950933927546322944 current state:\n",
      "JobState.JOB_STATE_RUNNING\n",
      "BatchPredictionJob projects/292219499736/locations/us-central1/batchPredictionJobs/7950933927546322944 current state:\n",
      "JobState.JOB_STATE_RUNNING\n",
      "BatchPredictionJob projects/292219499736/locations/us-central1/batchPredictionJobs/7950933927546322944 current state:\n",
      "JobState.JOB_STATE_RUNNING\n",
      "BatchPredictionJob projects/292219499736/locations/us-central1/batchPredictionJobs/7950933927546322944 current state:\n",
      "JobState.JOB_STATE_RUNNING\n",
      "BatchPredictionJob projects/292219499736/locations/us-central1/batchPredictionJobs/7950933927546322944 current state:\n",
      "JobState.JOB_STATE_SUCCEEDED\n",
      "BatchPredictionJob run completed. Resource name: projects/292219499736/locations/us-central1/batchPredictionJobs/7950933927546322944\n"
     ]
    }
   ],
   "source": [
    "# this job would take +2 hours,  depending on your infrastcuture\n",
    "# Create a batch prediction job to run predictions on a large dataset stored in BigQuery and save the results back to BigQuery.\n",
    "# job_display_name: A descriptive name for the batch prediction job, useful for identifying it in the Vertex AI console.\n",
    "# model_name : The name of the deployed model to be used for making predictions.\n",
    "# instances_format : Specifies the format of the input data. Here, it is set to \"bigquery\" because the input data is in a BigQuery table.\n",
    "# predictions_format : Specifies the format of the output predictions. Here, it is set to \"bigquery\" to store the predictions back in BigQuery.\n",
    "# bigquery_source : The path to the BigQuery table that contains the input data.\n",
    "# bigquery_destination_prefix : The project ID where the prediction results will be stored.\n",
    "# generate_explanation : If set to True, the job will generate explanations for the predictions, providing insights into the model's decision-making process.\n",
    "# labels :  Metadata labels for organizing and managing the job.\n",
    "\n",
    "batch = aiplatform.BatchPredictionJob.create(\n",
    "    job_display_name = f'{NOTEBOOK}_{BQ_TABLE}_{TIMESTAMP}',\n",
    "    model_name = model.name,\n",
    "    instances_format = \"bigquery\",\n",
    "    predictions_format = \"bigquery\",\n",
    "    bigquery_source = f'bq://{BQ_PROJECT}.{BQ_DATASET}.{BQ_TABLE}_prepped',\n",
    "    bigquery_destination_prefix = f\"{PROJECT_ID}\",\n",
    "    generate_explanation = True,\n",
    "    labels = {'notebook':f'{NOTEBOOK}'}\n",
    ")"
   ]
  },
  {
   "cell_type": "code",
   "execution_count": null,
   "id": "83d5a071-b171-4ebf-b3ee-2cb547b9ea95",
   "metadata": {},
   "outputs": [],
   "source": []
  }
 ],
 "metadata": {
  "environment": {
   "kernel": "python3",
   "name": "tf2-cpu.2-11.m121",
   "type": "gcloud",
   "uri": "us-docker.pkg.dev/deeplearning-platform-release/gcr.io/tf2-cpu.2-11:m121"
  },
  "kernelspec": {
   "display_name": "Python 3 (Local)",
   "language": "python",
   "name": "python3"
  },
  "language_info": {
   "codemirror_mode": {
    "name": "ipython",
    "version": 3
   },
   "file_extension": ".py",
   "mimetype": "text/x-python",
   "name": "python",
   "nbconvert_exporter": "python",
   "pygments_lexer": "ipython3",
   "version": "3.10.14"
  }
 },
 "nbformat": 4,
 "nbformat_minor": 5
}
