{
 "cells": [
  {
   "cell_type": "markdown",
   "id": "c28f7fa2",
   "metadata": {},
   "source": [
    "#### **Author: Wissem Khlifi**\n",
    "\n",
    "# 01 - BigQuery - Table Data Source\n",
    "Use BigQuery to load and prepare data for machine learning. This includes understanding the data source,\n",
    "feature selection, and splitting datasets into testing, validation, and training datasets.\n",
    "\n"
   ]
  },
  {
   "cell_type": "markdown",
   "id": "5d0c695d-002d-48ca-9d52-839f95fdfee0",
   "metadata": {},
   "source": [
    "## Source Data\n",
    "Specify the BigQuery table that will be used as the data source.\n",
    "This table contains the dataset for the machine learning project.\n",
    "BigQuery Table: `<Your Project ID>.ml_datasets.ulb_fraud_detection`\n",
    "\n",
    "### Explanation of Data Splitting\n",
    "\n",
    "Splitting data into training, validation, and testing sets is crucial in machine learning to ensure that\n",
    "the model generalizes well to new, unseen data. It helps in evaluating the model's performance and tuning it effectively.\n",
    "\n",
    "- Training Data: This is the portion of the dataset used to train the model. The model learns patterns and relationships\n",
    "in the training data to make predictions. It typically comprises the largest portion of the dataset.\n",
    "\n",
    "- Validation Data: This subset is used to tune the model's hyperparameters and to provide an unbiased evaluation\n",
    "of the model during training. It helps in selecting the best model architecture and avoiding overfitting.\n",
    "\n",
    "- Testing Data: The test set is used to evaluate the final model's performance. It provides an unbiased measure\n",
    "of the model's accuracy and generalization to new data, as it is not used during the training or validation phases.\n",
    "\n"
   ]
  },
  {
   "cell_type": "markdown",
   "id": "a5046940",
   "metadata": {},
   "source": [
    "## Setup"
   ]
  },
  {
   "cell_type": "markdown",
   "id": "a0ae60b2",
   "metadata": {},
   "source": [
    "### inputs\n",
    "\n",
    "Get the GCP project ID from the gcloud configuration\n",
    "This ensures the notebook uses the correct GCP project for all operations.\n"
   ]
  },
  {
   "cell_type": "code",
   "execution_count": 1,
   "id": "d6f0503a-e864-4170-ade9-0ebabd14efcd",
   "metadata": {
    "tags": []
   },
   "outputs": [
    {
     "data": {
      "text/plain": [
       "'genai-demo-2024'"
      ]
     },
     "execution_count": 1,
     "metadata": {},
     "output_type": "execute_result"
    }
   ],
   "source": [
    "project = !gcloud config get-value project\n",
    "PROJECT_ID = project[0]\n",
    "PROJECT_ID"
   ]
  },
  {
   "cell_type": "markdown",
   "id": "07e2f255-738c-42c1-9e3a-3aaa07e7d3c9",
   "metadata": {},
   "source": [
    "### Define variables for the rest of the Notebook\n"
   ]
  },
  {
   "cell_type": "code",
   "execution_count": 8,
   "id": "56a5bc43",
   "metadata": {
    "tags": []
   },
   "outputs": [
    {
     "data": {
      "text/plain": [
       "'genai-demo-2024.ml_datasets.ulb_fraud_detection'"
      ]
     },
     "execution_count": 8,
     "metadata": {},
     "output_type": "execute_result"
    }
   ],
   "source": [
    "# Specifying the region is necessary for certain GCP services to function correctly.\n",
    "REGION = 'us-central1'\n",
    "# Define experiment series : This helps in organizing and tracking different experiment runs.\n",
    "EXPERIMENT = '01'\n",
    "SERIES = '01'\n",
    "\n",
    "# Define source data parameters\n",
    "# These variables specify the BigQuery dataset and table to be used.\n",
    "BQ_PROJECT = PROJECT_ID\n",
    "BQ_DATASET = 'ml_datasets'\n",
    "BQ_TABLE = 'ulb_fraud_detection'\n",
    "\n",
    "# Construct the full BigQuery source path\n",
    "# This combines project ID, dataset, and table into a single reference for BigQuery operations\n",
    "\n",
    "BQ_SOURCE = f'{BQ_PROJECT}.{BQ_DATASET}.{BQ_TABLE}'\n",
    "BQ_SOURCE\n"
   ]
  },
  {
   "cell_type": "markdown",
   "id": "e4a963be",
   "metadata": {},
   "source": [
    "### Import necessary Packages:\n",
    "These imports are required for interacting with BigQuery, Google Cloud Storage, and Google Cloud Authentication.\n"
   ]
  },
  {
   "cell_type": "code",
   "execution_count": 7,
   "id": "8a37b83a",
   "metadata": {
    "tags": []
   },
   "outputs": [],
   "source": [
    "from google.cloud import bigquery\n",
    "from google.cloud import storage\n",
    "from google.auth import compute_engine, default\n",
    "import google.auth\n",
    "import google.auth.transport.requests"
   ]
  },
  {
   "cell_type": "markdown",
   "id": "e24cebb6",
   "metadata": {},
   "source": [
    "### Clients\n",
    "Initialize clients for GCP services\n",
    "Creating client instances allows interaction with GCP services within the notebook.\n"
   ]
  },
  {
   "cell_type": "code",
   "execution_count": 9,
   "id": "9e515410",
   "metadata": {
    "tags": []
   },
   "outputs": [],
   "source": [
    "bq = bigquery.Client(project = PROJECT_ID)\n",
    "gcs = storage.Client(project = PROJECT_ID)"
   ]
  },
  {
   "cell_type": "markdown",
   "id": "a6601398",
   "metadata": {},
   "source": [
    "### Parameters\n",
    "Set parameters\n",
    "Using the project ID as the bucket name for simplicity and to ensure uniqueness.\n"
   ]
  },
  {
   "cell_type": "code",
   "execution_count": 10,
   "id": "1f1e2af3",
   "metadata": {
    "tags": []
   },
   "outputs": [],
   "source": [
    "BUCKET = PROJECT_ID"
   ]
  },
  {
   "cell_type": "markdown",
   "id": "44285e37-6ac7-478d-9709-dd11a068a4dc",
   "metadata": {},
   "source": [
    "### Retrieve and Review a Sample From The Table:\n",
    "This section demonstrates how to query a sample of data from the BigQuery table to review it before further processing.\n",
    "\n",
    "> **Note:** The `LIMIT 5` statement does limit the number of rows returned by BigQuery to 5 but BigQuery still does a full table scan.  \n",
    "If you have a table larger than 1GB and want to limit the rows scanned for a quick review like then then replacing `LIMIT 5` with `TABLESAMPLE SYSTEM (1 PERCENT)` would be more efficient.  For tables under 1GB it will still return the full table.  \n",
    "More on [Table Sampling](https://cloud.google.com/bigquery/docs/table-sampling)"
   ]
  },
  {
   "cell_type": "code",
   "execution_count": 13,
   "id": "11924cf8-a040-4ee5-85ae-788cba106b56",
   "metadata": {
    "tags": []
   },
   "outputs": [
    {
     "data": {
      "text/html": [
       "<div>\n",
       "<style scoped>\n",
       "    .dataframe tbody tr th:only-of-type {\n",
       "        vertical-align: middle;\n",
       "    }\n",
       "\n",
       "    .dataframe tbody tr th {\n",
       "        vertical-align: top;\n",
       "    }\n",
       "\n",
       "    .dataframe thead th {\n",
       "        text-align: right;\n",
       "    }\n",
       "</style>\n",
       "<table border=\"1\" class=\"dataframe\">\n",
       "  <thead>\n",
       "    <tr style=\"text-align: right;\">\n",
       "      <th></th>\n",
       "      <th>Time</th>\n",
       "      <th>V1</th>\n",
       "      <th>V2</th>\n",
       "      <th>V3</th>\n",
       "      <th>V4</th>\n",
       "      <th>V5</th>\n",
       "      <th>V6</th>\n",
       "      <th>V7</th>\n",
       "      <th>V8</th>\n",
       "      <th>V9</th>\n",
       "      <th>...</th>\n",
       "      <th>V22</th>\n",
       "      <th>V23</th>\n",
       "      <th>V24</th>\n",
       "      <th>V25</th>\n",
       "      <th>V26</th>\n",
       "      <th>V27</th>\n",
       "      <th>V28</th>\n",
       "      <th>Amount</th>\n",
       "      <th>Class</th>\n",
       "      <th>Feedback</th>\n",
       "    </tr>\n",
       "  </thead>\n",
       "  <tbody>\n",
       "    <tr>\n",
       "      <th>0</th>\n",
       "      <td>149835.0</td>\n",
       "      <td>-0.208098</td>\n",
       "      <td>0.567463</td>\n",
       "      <td>-0.811635</td>\n",
       "      <td>-1.831501</td>\n",
       "      <td>0.442591</td>\n",
       "      <td>-0.236864</td>\n",
       "      <td>0.200599</td>\n",
       "      <td>0.345577</td>\n",
       "      <td>-1.709567</td>\n",
       "      <td>...</td>\n",
       "      <td>0.575520</td>\n",
       "      <td>-0.011990</td>\n",
       "      <td>0.138785</td>\n",
       "      <td>-0.914909</td>\n",
       "      <td>0.578927</td>\n",
       "      <td>0.319829</td>\n",
       "      <td>0.233426</td>\n",
       "      <td>8.00</td>\n",
       "      <td>0</td>\n",
       "      <td>very satisfied.</td>\n",
       "    </tr>\n",
       "    <tr>\n",
       "      <th>1</th>\n",
       "      <td>26815.0</td>\n",
       "      <td>-0.420297</td>\n",
       "      <td>0.483617</td>\n",
       "      <td>0.868779</td>\n",
       "      <td>-2.045578</td>\n",
       "      <td>0.452421</td>\n",
       "      <td>-0.324837</td>\n",
       "      <td>0.618529</td>\n",
       "      <td>-0.135828</td>\n",
       "      <td>-1.580132</td>\n",
       "      <td>...</td>\n",
       "      <td>-0.502885</td>\n",
       "      <td>-0.089659</td>\n",
       "      <td>-0.784473</td>\n",
       "      <td>-0.139855</td>\n",
       "      <td>-0.644991</td>\n",
       "      <td>-0.037222</td>\n",
       "      <td>0.100003</td>\n",
       "      <td>8.00</td>\n",
       "      <td>0</td>\n",
       "      <td>very satisfied.</td>\n",
       "    </tr>\n",
       "    <tr>\n",
       "      <th>2</th>\n",
       "      <td>81676.0</td>\n",
       "      <td>1.104733</td>\n",
       "      <td>-0.185207</td>\n",
       "      <td>0.439561</td>\n",
       "      <td>1.182593</td>\n",
       "      <td>0.079340</td>\n",
       "      <td>1.294311</td>\n",
       "      <td>-0.455057</td>\n",
       "      <td>0.370983</td>\n",
       "      <td>0.643557</td>\n",
       "      <td>...</td>\n",
       "      <td>0.035177</td>\n",
       "      <td>-0.255415</td>\n",
       "      <td>-1.103956</td>\n",
       "      <td>0.739641</td>\n",
       "      <td>-0.207123</td>\n",
       "      <td>0.064421</td>\n",
       "      <td>0.006113</td>\n",
       "      <td>36.00</td>\n",
       "      <td>0</td>\n",
       "      <td>very satisfied.</td>\n",
       "    </tr>\n",
       "    <tr>\n",
       "      <th>3</th>\n",
       "      <td>94019.0</td>\n",
       "      <td>2.005148</td>\n",
       "      <td>0.408539</td>\n",
       "      <td>-1.815424</td>\n",
       "      <td>1.458494</td>\n",
       "      <td>0.742022</td>\n",
       "      <td>-1.286774</td>\n",
       "      <td>0.788253</td>\n",
       "      <td>-0.577383</td>\n",
       "      <td>1.062030</td>\n",
       "      <td>...</td>\n",
       "      <td>0.424273</td>\n",
       "      <td>0.003339</td>\n",
       "      <td>1.093558</td>\n",
       "      <td>0.495325</td>\n",
       "      <td>-0.515839</td>\n",
       "      <td>-0.075583</td>\n",
       "      <td>-0.057191</td>\n",
       "      <td>36.00</td>\n",
       "      <td>0</td>\n",
       "      <td>very satisfied.</td>\n",
       "    </tr>\n",
       "    <tr>\n",
       "      <th>4</th>\n",
       "      <td>94032.0</td>\n",
       "      <td>2.025415</td>\n",
       "      <td>0.471448</td>\n",
       "      <td>-1.811719</td>\n",
       "      <td>1.462872</td>\n",
       "      <td>0.767903</td>\n",
       "      <td>-1.443030</td>\n",
       "      <td>0.897959</td>\n",
       "      <td>-0.697742</td>\n",
       "      <td>0.967117</td>\n",
       "      <td>...</td>\n",
       "      <td>0.476975</td>\n",
       "      <td>-0.095885</td>\n",
       "      <td>-0.051129</td>\n",
       "      <td>0.563746</td>\n",
       "      <td>-0.458306</td>\n",
       "      <td>-0.065255</td>\n",
       "      <td>-0.066606</td>\n",
       "      <td>36.00</td>\n",
       "      <td>0</td>\n",
       "      <td>very satisfied.</td>\n",
       "    </tr>\n",
       "    <tr>\n",
       "      <th>...</th>\n",
       "      <td>...</td>\n",
       "      <td>...</td>\n",
       "      <td>...</td>\n",
       "      <td>...</td>\n",
       "      <td>...</td>\n",
       "      <td>...</td>\n",
       "      <td>...</td>\n",
       "      <td>...</td>\n",
       "      <td>...</td>\n",
       "      <td>...</td>\n",
       "      <td>...</td>\n",
       "      <td>...</td>\n",
       "      <td>...</td>\n",
       "      <td>...</td>\n",
       "      <td>...</td>\n",
       "      <td>...</td>\n",
       "      <td>...</td>\n",
       "      <td>...</td>\n",
       "      <td>...</td>\n",
       "      <td>...</td>\n",
       "      <td>...</td>\n",
       "    </tr>\n",
       "    <tr>\n",
       "      <th>210315</th>\n",
       "      <td>77700.0</td>\n",
       "      <td>1.219388</td>\n",
       "      <td>0.560330</td>\n",
       "      <td>-0.475506</td>\n",
       "      <td>0.812431</td>\n",
       "      <td>0.006552</td>\n",
       "      <td>-1.267116</td>\n",
       "      <td>0.264263</td>\n",
       "      <td>-0.144057</td>\n",
       "      <td>-0.334000</td>\n",
       "      <td>...</td>\n",
       "      <td>-0.293571</td>\n",
       "      <td>-0.062173</td>\n",
       "      <td>0.404417</td>\n",
       "      <td>0.489581</td>\n",
       "      <td>0.341182</td>\n",
       "      <td>-0.038846</td>\n",
       "      <td>0.033249</td>\n",
       "      <td>0.76</td>\n",
       "      <td>0</td>\n",
       "      <td>Very happy with the quick and efficient service.</td>\n",
       "    </tr>\n",
       "    <tr>\n",
       "      <th>210316</th>\n",
       "      <td>78256.0</td>\n",
       "      <td>-0.714316</td>\n",
       "      <td>1.402217</td>\n",
       "      <td>0.018498</td>\n",
       "      <td>0.083353</td>\n",
       "      <td>0.630271</td>\n",
       "      <td>-0.181795</td>\n",
       "      <td>0.400530</td>\n",
       "      <td>0.656264</td>\n",
       "      <td>-1.006304</td>\n",
       "      <td>...</td>\n",
       "      <td>0.209476</td>\n",
       "      <td>-0.062232</td>\n",
       "      <td>-0.431059</td>\n",
       "      <td>-0.519844</td>\n",
       "      <td>0.302932</td>\n",
       "      <td>0.013695</td>\n",
       "      <td>0.103502</td>\n",
       "      <td>0.76</td>\n",
       "      <td>0</td>\n",
       "      <td>Very happy with the quick and efficient service.</td>\n",
       "    </tr>\n",
       "    <tr>\n",
       "      <th>210317</th>\n",
       "      <td>82025.0</td>\n",
       "      <td>-0.580180</td>\n",
       "      <td>-0.314571</td>\n",
       "      <td>2.041901</td>\n",
       "      <td>-2.982935</td>\n",
       "      <td>-0.195448</td>\n",
       "      <td>-0.246573</td>\n",
       "      <td>0.092692</td>\n",
       "      <td>0.088708</td>\n",
       "      <td>2.046032</td>\n",
       "      <td>...</td>\n",
       "      <td>0.464865</td>\n",
       "      <td>-0.196856</td>\n",
       "      <td>0.042678</td>\n",
       "      <td>-0.118104</td>\n",
       "      <td>-1.044651</td>\n",
       "      <td>0.053008</td>\n",
       "      <td>-0.089352</td>\n",
       "      <td>0.76</td>\n",
       "      <td>0</td>\n",
       "      <td>Very happy with the quick and efficient service.</td>\n",
       "    </tr>\n",
       "    <tr>\n",
       "      <th>210318</th>\n",
       "      <td>136310.0</td>\n",
       "      <td>-1.102492</td>\n",
       "      <td>2.159172</td>\n",
       "      <td>-4.312176</td>\n",
       "      <td>-1.163056</td>\n",
       "      <td>3.300516</td>\n",
       "      <td>2.900514</td>\n",
       "      <td>-0.881430</td>\n",
       "      <td>-1.150740</td>\n",
       "      <td>-1.261079</td>\n",
       "      <td>...</td>\n",
       "      <td>0.552558</td>\n",
       "      <td>0.064139</td>\n",
       "      <td>0.503571</td>\n",
       "      <td>-0.209685</td>\n",
       "      <td>0.579692</td>\n",
       "      <td>-0.335457</td>\n",
       "      <td>0.021402</td>\n",
       "      <td>0.76</td>\n",
       "      <td>0</td>\n",
       "      <td>Very happy with the quick and efficient service.</td>\n",
       "    </tr>\n",
       "    <tr>\n",
       "      <th>210319</th>\n",
       "      <td>149863.0</td>\n",
       "      <td>2.085175</td>\n",
       "      <td>0.393051</td>\n",
       "      <td>-4.508201</td>\n",
       "      <td>-0.311771</td>\n",
       "      <td>3.510117</td>\n",
       "      <td>2.453299</td>\n",
       "      <td>0.220469</td>\n",
       "      <td>0.543377</td>\n",
       "      <td>-0.100434</td>\n",
       "      <td>...</td>\n",
       "      <td>-0.072642</td>\n",
       "      <td>-0.036584</td>\n",
       "      <td>0.529693</td>\n",
       "      <td>0.414685</td>\n",
       "      <td>0.735870</td>\n",
       "      <td>-0.058233</td>\n",
       "      <td>-0.026658</td>\n",
       "      <td>0.76</td>\n",
       "      <td>0</td>\n",
       "      <td>Very happy with the quick and efficient service.</td>\n",
       "    </tr>\n",
       "  </tbody>\n",
       "</table>\n",
       "<p>210320 rows × 32 columns</p>\n",
       "</div>"
      ],
      "text/plain": [
       "            Time        V1        V2        V3        V4        V5        V6  \\\n",
       "0       149835.0 -0.208098  0.567463 -0.811635 -1.831501  0.442591 -0.236864   \n",
       "1        26815.0 -0.420297  0.483617  0.868779 -2.045578  0.452421 -0.324837   \n",
       "2        81676.0  1.104733 -0.185207  0.439561  1.182593  0.079340  1.294311   \n",
       "3        94019.0  2.005148  0.408539 -1.815424  1.458494  0.742022 -1.286774   \n",
       "4        94032.0  2.025415  0.471448 -1.811719  1.462872  0.767903 -1.443030   \n",
       "...          ...       ...       ...       ...       ...       ...       ...   \n",
       "210315   77700.0  1.219388  0.560330 -0.475506  0.812431  0.006552 -1.267116   \n",
       "210316   78256.0 -0.714316  1.402217  0.018498  0.083353  0.630271 -0.181795   \n",
       "210317   82025.0 -0.580180 -0.314571  2.041901 -2.982935 -0.195448 -0.246573   \n",
       "210318  136310.0 -1.102492  2.159172 -4.312176 -1.163056  3.300516  2.900514   \n",
       "210319  149863.0  2.085175  0.393051 -4.508201 -0.311771  3.510117  2.453299   \n",
       "\n",
       "              V7        V8        V9  ...       V22       V23       V24  \\\n",
       "0       0.200599  0.345577 -1.709567  ...  0.575520 -0.011990  0.138785   \n",
       "1       0.618529 -0.135828 -1.580132  ... -0.502885 -0.089659 -0.784473   \n",
       "2      -0.455057  0.370983  0.643557  ...  0.035177 -0.255415 -1.103956   \n",
       "3       0.788253 -0.577383  1.062030  ...  0.424273  0.003339  1.093558   \n",
       "4       0.897959 -0.697742  0.967117  ...  0.476975 -0.095885 -0.051129   \n",
       "...          ...       ...       ...  ...       ...       ...       ...   \n",
       "210315  0.264263 -0.144057 -0.334000  ... -0.293571 -0.062173  0.404417   \n",
       "210316  0.400530  0.656264 -1.006304  ...  0.209476 -0.062232 -0.431059   \n",
       "210317  0.092692  0.088708  2.046032  ...  0.464865 -0.196856  0.042678   \n",
       "210318 -0.881430 -1.150740 -1.261079  ...  0.552558  0.064139  0.503571   \n",
       "210319  0.220469  0.543377 -0.100434  ... -0.072642 -0.036584  0.529693   \n",
       "\n",
       "             V25       V26       V27       V28  Amount  Class  \\\n",
       "0      -0.914909  0.578927  0.319829  0.233426    8.00      0   \n",
       "1      -0.139855 -0.644991 -0.037222  0.100003    8.00      0   \n",
       "2       0.739641 -0.207123  0.064421  0.006113   36.00      0   \n",
       "3       0.495325 -0.515839 -0.075583 -0.057191   36.00      0   \n",
       "4       0.563746 -0.458306 -0.065255 -0.066606   36.00      0   \n",
       "...          ...       ...       ...       ...     ...    ...   \n",
       "210315  0.489581  0.341182 -0.038846  0.033249    0.76      0   \n",
       "210316 -0.519844  0.302932  0.013695  0.103502    0.76      0   \n",
       "210317 -0.118104 -1.044651  0.053008 -0.089352    0.76      0   \n",
       "210318 -0.209685  0.579692 -0.335457  0.021402    0.76      0   \n",
       "210319  0.414685  0.735870 -0.058233 -0.026658    0.76      0   \n",
       "\n",
       "                                                Feedback  \n",
       "0                                        very satisfied.  \n",
       "1                                        very satisfied.  \n",
       "2                                        very satisfied.  \n",
       "3                                        very satisfied.  \n",
       "4                                        very satisfied.  \n",
       "...                                                  ...  \n",
       "210315  Very happy with the quick and efficient service.  \n",
       "210316  Very happy with the quick and efficient service.  \n",
       "210317  Very happy with the quick and efficient service.  \n",
       "210318  Very happy with the quick and efficient service.  \n",
       "210319  Very happy with the quick and efficient service.  \n",
       "\n",
       "[210320 rows x 32 columns]"
      ]
     },
     "execution_count": 13,
     "metadata": {},
     "output_type": "execute_result"
    }
   ],
   "source": [
    "# Construct a query to retrieve a sample of data from the BigQuery table\n",
    "query = f\"\"\"\n",
    "SELECT *\n",
    "FROM `{BQ_PROJECT}.{BQ_DATASET}.{BQ_TABLE}` TABLESAMPLE SYSTEM (1 PERCENT)\n",
    "#LIMIT 5\n",
    "\"\"\"\n",
    "# Execute the query and convert the result to a pandas dataframe for easy manipulation and review in Python\n",
    "bq.query(query = query).to_dataframe()"
   ]
  },
  {
   "cell_type": "markdown",
   "id": "e85ccdce-e6a9-4735-9997-e5ae77a6f86c",
   "metadata": {},
   "source": [
    "### [OPTIONAL] Check out this table in BigQuery Console:\n",
    "Provides a direct link to the BigQuery console for further exploration and verification of the dataset.\n",
    "This helps to manually inspect and validate the data directly in BigQuery's interface.\n",
    "\n",
    "- Click: https://console.cloud.google.com/bigquery\n",
    "- Make sure project selected is the one from this notebook\n",
    "- Under Explore, expand this project and review the dataset and table"
   ]
  },
  {
   "cell_type": "code",
   "execution_count": 14,
   "id": "d439a1dc-dfdd-4c82-8302-8dc1ffe44d28",
   "metadata": {
    "tags": []
   },
   "outputs": [
    {
     "name": "stdout",
     "output_type": "stream",
     "text": [
      "Direct Link To This Project In BigQuery:\n",
      "https://console.cloud.google.com/bigquery?project=genai-demo-2024\n"
     ]
    }
   ],
   "source": [
    "print(f\"Direct Link To This Project In BigQuery:\\nhttps://console.cloud.google.com/bigquery?project={PROJECT_ID}\")"
   ]
  },
  {
   "cell_type": "markdown",
   "id": "2f133efb-8232-4b21-814f-23b815dc60f2",
   "metadata": {},
   "source": [
    "### Review Data in BigQuery\n",
    "Additional SQL queries could be used to review the data.  This section shows moving the table to a Pandas dataframe for local review in Python:\n",
    "Reviewing the data helps in understanding its structure and quality before further processing.\n",
    "\n",
    "> **Note:** <p>This query only selects one column.  This means BigQuery scans less data as it does not process the other columns.  </p>"
   ]
  },
  {
   "cell_type": "code",
   "execution_count": 15,
   "id": "f4ebf6f5-a178-4011-9ab6-fa8329c578c9",
   "metadata": {
    "tags": []
   },
   "outputs": [],
   "source": [
    "# Construct a query to select a sample of the 'Class' column from the BigQuery table\n",
    "query = f\"\"\"\n",
    "SELECT Class\n",
    "FROM `{BQ_PROJECT}.{BQ_DATASET}.{BQ_TABLE}`\n",
    "\"\"\"\n",
    "# Execute the query and convert the result to a pandas dataframe for easy manipulation and review in Python\n",
    "\n",
    "df = bq.query(query = query).to_dataframe()"
   ]
  },
  {
   "cell_type": "code",
   "execution_count": 16,
   "id": "674f716e-8b9d-4c92-9b46-c166b869f6ae",
   "metadata": {
    "tags": []
   },
   "outputs": [
    {
     "data": {
      "text/plain": [
       "Class\n",
       "0    276740\n",
       "1       257\n",
       "Name: count, dtype: Int64"
      ]
     },
     "execution_count": 16,
     "metadata": {},
     "output_type": "execute_result"
    }
   ],
   "source": [
    "# Display the value counts of the 'Class' column\n",
    "# This helps in understanding the distribution of classes in the dataset.\n",
    "\n",
    "df['Class'].value_counts()"
   ]
  },
  {
   "cell_type": "code",
   "execution_count": 17,
   "id": "ba5d17e5-07c3-48fd-b682-aa471f3548f2",
   "metadata": {
    "tags": []
   },
   "outputs": [
    {
     "data": {
      "text/plain": [
       "Class\n",
       "0    0.999072\n",
       "1    0.000928\n",
       "Name: proportion, dtype: Float64"
      ]
     },
     "execution_count": 17,
     "metadata": {},
     "output_type": "execute_result"
    }
   ],
   "source": [
    "# Display the normalized value counts of the 'Class' column\n",
    "# Normalized value counts show the proportion of each class, which is useful for understanding class imbalance.\n",
    "\n",
    "df['Class'].value_counts(normalize=True)"
   ]
  },
  {
   "cell_type": "markdown",
   "id": "35b34894",
   "metadata": {},
   "source": [
    "---\n",
    "## Prepare Data for Analysis"
   ]
  },
  {
   "cell_type": "markdown",
   "id": "4c982157",
   "metadata": {},
   "source": [
    "Create a prepped version of the data with test/train splits using SQL DDL:"
   ]
  },
  {
   "cell_type": "code",
   "execution_count": 18,
   "id": "a50becbb-60ab-45f9-acd5-9beb5b6755f0",
   "metadata": {
    "tags": []
   },
   "outputs": [
    {
     "name": "stdout",
     "output_type": "stream",
     "text": [
      "292219499736-compute@developer.gserviceaccount.com\n"
     ]
    },
    {
     "data": {
      "text/plain": [
       "<google.cloud.bigquery.table._EmptyRowIterator at 0x7f1e5827a1a0>"
      ]
     },
     "execution_count": 18,
     "metadata": {},
     "output_type": "execute_result"
    }
   ],
   "source": [
    "# Construct a BigQuery client object.\n",
    "client = bigquery.Client()\n",
    "\n",
    "# Get the credentials of the current environment, which should be the service account\n",
    "credentials, project = default()\n",
    "request = google.auth.transport.requests.Request()\n",
    "credentials.refresh(request=request)\n",
    "\n",
    "# print the service account\n",
    "print(credentials.service_account_email) \n",
    "service_account_email = credentials.service_account_email\n",
    "\n",
    "# Construct a query to create or replace a table with a train/test/validation split\n",
    "# The CASE WHEN statement splits the data into training (80%), validation (10%), and test (10%) sets.\n",
    "\n",
    "query = f\"\"\"\n",
    "CREATE OR REPLACE TABLE `{BQ_PROJECT}.{BQ_DATASET}.{BQ_TABLE}_prepped` AS\n",
    "WITH add_id AS(SELECT *, GENERATE_UUID() transaction_id FROM `{BQ_PROJECT}.{BQ_DATASET}.{BQ_TABLE}`)\n",
    "SELECT *,\n",
    "    CASE \n",
    "        WHEN MOD(ABS(FARM_FINGERPRINT(transaction_id)),10) < 8 THEN \"TRAIN\" \n",
    "        WHEN MOD(ABS(FARM_FINGERPRINT(transaction_id)),10) < 9 THEN \"VALIDATE\"\n",
    "        ELSE \"TEST\"\n",
    "    END AS splits,\n",
    "     \"{service_account_email}\" as service_account_email\n",
    "FROM add_id\n",
    "\"\"\"\n",
    "# Execute the query to create the prepped table with the splits\n",
    "job = bq.query(query = query)\n",
    "job.result()"
   ]
  },
  {
   "cell_type": "code",
   "execution_count": 19,
   "id": "77d6e2a9-ec35-477c-9d50-429326acc41d",
   "metadata": {
    "tags": []
   },
   "outputs": [
    {
     "data": {
      "text/plain": [
       "8.613"
      ]
     },
     "execution_count": 19,
     "metadata": {},
     "output_type": "execute_result"
    }
   ],
   "source": [
    "# how many seconds the job took to be executed\n",
    "(job.ended-job.started).total_seconds()"
   ]
  },
  {
   "cell_type": "code",
   "execution_count": 20,
   "id": "a991ff73-a545-4eed-a709-b8292efd89ca",
   "metadata": {
    "tags": []
   },
   "outputs": [
    {
     "name": "stdout",
     "output_type": "stream",
     "text": [
      "77.532674 MB\n"
     ]
    }
   ],
   "source": [
    "# Estimated bytes scan. To estimate the cost of the query in ON Demand pricing model\n",
    "if job.estimated_bytes_processed:\n",
    "    print(f'{job.estimated_bytes_processed/1000000} MB')"
   ]
  },
  {
   "cell_type": "markdown",
   "id": "372b2c41",
   "metadata": {},
   "source": [
    "### Review the test/train split in BigQuery:"
   ]
  },
  {
   "cell_type": "code",
   "execution_count": 21,
   "id": "4a94adb9-81d7-4710-ac50-e0d93dd5523a",
   "metadata": {
    "tags": []
   },
   "outputs": [
    {
     "data": {
      "text/html": [
       "<div>\n",
       "<style scoped>\n",
       "    .dataframe tbody tr th:only-of-type {\n",
       "        vertical-align: middle;\n",
       "    }\n",
       "\n",
       "    .dataframe tbody tr th {\n",
       "        vertical-align: top;\n",
       "    }\n",
       "\n",
       "    .dataframe thead th {\n",
       "        text-align: right;\n",
       "    }\n",
       "</style>\n",
       "<table border=\"1\" class=\"dataframe\">\n",
       "  <thead>\n",
       "    <tr style=\"text-align: right;\">\n",
       "      <th></th>\n",
       "      <th>splits</th>\n",
       "      <th>Count</th>\n",
       "      <th>Percentage</th>\n",
       "    </tr>\n",
       "  </thead>\n",
       "  <tbody>\n",
       "    <tr>\n",
       "      <th>0</th>\n",
       "      <td>VALIDATE</td>\n",
       "      <td>27931</td>\n",
       "      <td>10.083503</td>\n",
       "    </tr>\n",
       "    <tr>\n",
       "      <th>1</th>\n",
       "      <td>TEST</td>\n",
       "      <td>28153</td>\n",
       "      <td>10.163648</td>\n",
       "    </tr>\n",
       "    <tr>\n",
       "      <th>2</th>\n",
       "      <td>TRAIN</td>\n",
       "      <td>220913</td>\n",
       "      <td>79.752849</td>\n",
       "    </tr>\n",
       "  </tbody>\n",
       "</table>\n",
       "</div>"
      ],
      "text/plain": [
       "     splits   Count  Percentage\n",
       "0  VALIDATE   27931   10.083503\n",
       "1      TEST   28153   10.163648\n",
       "2     TRAIN  220913   79.752849"
      ]
     },
     "execution_count": 21,
     "metadata": {},
     "output_type": "execute_result"
    }
   ],
   "source": [
    "# Construct a query to review the distribution of splits\n",
    "# This query counts the number of records in each split and calculates their percentage.\n",
    "\n",
    "query = f\"\"\"\n",
    "SELECT splits, count(*) as Count, 100*count(*) / (sum(count(*)) OVER()) as Percentage\n",
    "FROM `{BQ_PROJECT}.{BQ_DATASET}.{BQ_TABLE}_prepped`\n",
    "GROUP BY splits\n",
    "\"\"\"\n",
    "bq.query(query = query).to_dataframe()"
   ]
  },
  {
   "cell_type": "markdown",
   "id": "3006ed11",
   "metadata": {},
   "source": [
    "### Retrieve a subset of the data to a Pandas dataframe:\n",
    "This allows for a quick inspection of the data in the notebook environment."
   ]
  },
  {
   "cell_type": "code",
   "execution_count": 22,
   "id": "2ea70141-07db-46b0-a31e-0968befcd37b",
   "metadata": {
    "tags": []
   },
   "outputs": [],
   "source": [
    "query = f\"\"\"\n",
    "SELECT * \n",
    "FROM `{BQ_PROJECT}.{BQ_DATASET}.{BQ_TABLE}_prepped`\n",
    "LIMIT 5\n",
    "\"\"\"\n",
    "\n",
    "# Execute the query and convert the result to a pandas dataframe\n",
    "data = bq.query(query = query).to_dataframe()"
   ]
  },
  {
   "cell_type": "code",
   "execution_count": 23,
   "id": "326d2b3d",
   "metadata": {
    "tags": []
   },
   "outputs": [
    {
     "data": {
      "text/html": [
       "<div>\n",
       "<style scoped>\n",
       "    .dataframe tbody tr th:only-of-type {\n",
       "        vertical-align: middle;\n",
       "    }\n",
       "\n",
       "    .dataframe tbody tr th {\n",
       "        vertical-align: top;\n",
       "    }\n",
       "\n",
       "    .dataframe thead th {\n",
       "        text-align: right;\n",
       "    }\n",
       "</style>\n",
       "<table border=\"1\" class=\"dataframe\">\n",
       "  <thead>\n",
       "    <tr style=\"text-align: right;\">\n",
       "      <th></th>\n",
       "      <th>Time</th>\n",
       "      <th>V1</th>\n",
       "      <th>V2</th>\n",
       "      <th>V3</th>\n",
       "      <th>V4</th>\n",
       "      <th>V5</th>\n",
       "      <th>V6</th>\n",
       "      <th>V7</th>\n",
       "      <th>V8</th>\n",
       "      <th>V9</th>\n",
       "      <th>...</th>\n",
       "      <th>V25</th>\n",
       "      <th>V26</th>\n",
       "      <th>V27</th>\n",
       "      <th>V28</th>\n",
       "      <th>Amount</th>\n",
       "      <th>Class</th>\n",
       "      <th>Feedback</th>\n",
       "      <th>transaction_id</th>\n",
       "      <th>splits</th>\n",
       "      <th>service_account_email</th>\n",
       "    </tr>\n",
       "  </thead>\n",
       "  <tbody>\n",
       "    <tr>\n",
       "      <th>0</th>\n",
       "      <td>66341.0</td>\n",
       "      <td>-1.975549</td>\n",
       "      <td>-1.606799</td>\n",
       "      <td>0.081444</td>\n",
       "      <td>-2.159326</td>\n",
       "      <td>0.589567</td>\n",
       "      <td>0.334022</td>\n",
       "      <td>0.091121</td>\n",
       "      <td>0.745302</td>\n",
       "      <td>-1.320319</td>\n",
       "      <td>...</td>\n",
       "      <td>-0.817125</td>\n",
       "      <td>1.139974</td>\n",
       "      <td>-0.061121</td>\n",
       "      <td>-0.101225</td>\n",
       "      <td>200.5</td>\n",
       "      <td>0</td>\n",
       "      <td>very satisfied.</td>\n",
       "      <td>6a487bc0-864e-476a-89a3-711a95c3bf40</td>\n",
       "      <td>TEST</td>\n",
       "      <td>292219499736-compute@developer.gserviceaccount...</td>\n",
       "    </tr>\n",
       "    <tr>\n",
       "      <th>1</th>\n",
       "      <td>138794.0</td>\n",
       "      <td>1.556636</td>\n",
       "      <td>-0.858618</td>\n",
       "      <td>-1.541472</td>\n",
       "      <td>1.235769</td>\n",
       "      <td>0.142803</td>\n",
       "      <td>0.172018</td>\n",
       "      <td>0.186438</td>\n",
       "      <td>-0.093988</td>\n",
       "      <td>0.434570</td>\n",
       "      <td>...</td>\n",
       "      <td>0.427739</td>\n",
       "      <td>-0.227500</td>\n",
       "      <td>-0.026433</td>\n",
       "      <td>-0.027460</td>\n",
       "      <td>250.0</td>\n",
       "      <td>0</td>\n",
       "      <td>very satisfied.</td>\n",
       "      <td>381e5380-80f7-4b4c-b9f7-de89eda68b89</td>\n",
       "      <td>TEST</td>\n",
       "      <td>292219499736-compute@developer.gserviceaccount...</td>\n",
       "    </tr>\n",
       "    <tr>\n",
       "      <th>2</th>\n",
       "      <td>100922.0</td>\n",
       "      <td>1.923291</td>\n",
       "      <td>-0.511650</td>\n",
       "      <td>0.217122</td>\n",
       "      <td>0.583403</td>\n",
       "      <td>-1.043504</td>\n",
       "      <td>-0.428347</td>\n",
       "      <td>-0.946888</td>\n",
       "      <td>-0.055398</td>\n",
       "      <td>2.688932</td>\n",
       "      <td>...</td>\n",
       "      <td>-0.628523</td>\n",
       "      <td>0.441857</td>\n",
       "      <td>-0.045307</td>\n",
       "      <td>-0.039834</td>\n",
       "      <td>39.0</td>\n",
       "      <td>0</td>\n",
       "      <td>very satisfied.</td>\n",
       "      <td>90c3c8af-c5bb-4f4b-9735-a30555ba12c6</td>\n",
       "      <td>TEST</td>\n",
       "      <td>292219499736-compute@developer.gserviceaccount...</td>\n",
       "    </tr>\n",
       "    <tr>\n",
       "      <th>3</th>\n",
       "      <td>151295.0</td>\n",
       "      <td>-2.663683</td>\n",
       "      <td>2.410267</td>\n",
       "      <td>-0.956647</td>\n",
       "      <td>-1.124388</td>\n",
       "      <td>-0.477937</td>\n",
       "      <td>-0.984630</td>\n",
       "      <td>0.318403</td>\n",
       "      <td>0.709386</td>\n",
       "      <td>1.257919</td>\n",
       "      <td>...</td>\n",
       "      <td>0.370005</td>\n",
       "      <td>0.166635</td>\n",
       "      <td>0.867921</td>\n",
       "      <td>0.614288</td>\n",
       "      <td>20.0</td>\n",
       "      <td>0</td>\n",
       "      <td>very satisfied.</td>\n",
       "      <td>3f04990a-c791-43b6-9af6-78d786fe3ef6</td>\n",
       "      <td>TEST</td>\n",
       "      <td>292219499736-compute@developer.gserviceaccount...</td>\n",
       "    </tr>\n",
       "    <tr>\n",
       "      <th>4</th>\n",
       "      <td>148075.0</td>\n",
       "      <td>-0.507233</td>\n",
       "      <td>1.319840</td>\n",
       "      <td>-0.420694</td>\n",
       "      <td>-0.036181</td>\n",
       "      <td>1.742189</td>\n",
       "      <td>-0.579730</td>\n",
       "      <td>1.608304</td>\n",
       "      <td>-0.062022</td>\n",
       "      <td>-0.916780</td>\n",
       "      <td>...</td>\n",
       "      <td>0.466007</td>\n",
       "      <td>-0.652604</td>\n",
       "      <td>0.104366</td>\n",
       "      <td>0.160145</td>\n",
       "      <td>20.0</td>\n",
       "      <td>0</td>\n",
       "      <td>very satisfied.</td>\n",
       "      <td>6973debb-1be0-4142-b524-10075fe71758</td>\n",
       "      <td>TEST</td>\n",
       "      <td>292219499736-compute@developer.gserviceaccount...</td>\n",
       "    </tr>\n",
       "  </tbody>\n",
       "</table>\n",
       "<p>5 rows × 35 columns</p>\n",
       "</div>"
      ],
      "text/plain": [
       "       Time        V1        V2        V3        V4        V5        V6  \\\n",
       "0   66341.0 -1.975549 -1.606799  0.081444 -2.159326  0.589567  0.334022   \n",
       "1  138794.0  1.556636 -0.858618 -1.541472  1.235769  0.142803  0.172018   \n",
       "2  100922.0  1.923291 -0.511650  0.217122  0.583403 -1.043504 -0.428347   \n",
       "3  151295.0 -2.663683  2.410267 -0.956647 -1.124388 -0.477937 -0.984630   \n",
       "4  148075.0 -0.507233  1.319840 -0.420694 -0.036181  1.742189 -0.579730   \n",
       "\n",
       "         V7        V8        V9  ...       V25       V26       V27       V28  \\\n",
       "0  0.091121  0.745302 -1.320319  ... -0.817125  1.139974 -0.061121 -0.101225   \n",
       "1  0.186438 -0.093988  0.434570  ...  0.427739 -0.227500 -0.026433 -0.027460   \n",
       "2 -0.946888 -0.055398  2.688932  ... -0.628523  0.441857 -0.045307 -0.039834   \n",
       "3  0.318403  0.709386  1.257919  ...  0.370005  0.166635  0.867921  0.614288   \n",
       "4  1.608304 -0.062022 -0.916780  ...  0.466007 -0.652604  0.104366  0.160145   \n",
       "\n",
       "   Amount  Class          Feedback                        transaction_id  \\\n",
       "0   200.5      0   very satisfied.  6a487bc0-864e-476a-89a3-711a95c3bf40   \n",
       "1   250.0      0   very satisfied.  381e5380-80f7-4b4c-b9f7-de89eda68b89   \n",
       "2    39.0      0   very satisfied.  90c3c8af-c5bb-4f4b-9735-a30555ba12c6   \n",
       "3    20.0      0   very satisfied.  3f04990a-c791-43b6-9af6-78d786fe3ef6   \n",
       "4    20.0      0   very satisfied.  6973debb-1be0-4142-b524-10075fe71758   \n",
       "\n",
       "   splits                              service_account_email  \n",
       "0    TEST  292219499736-compute@developer.gserviceaccount...  \n",
       "1    TEST  292219499736-compute@developer.gserviceaccount...  \n",
       "2    TEST  292219499736-compute@developer.gserviceaccount...  \n",
       "3    TEST  292219499736-compute@developer.gserviceaccount...  \n",
       "4    TEST  292219499736-compute@developer.gserviceaccount...  \n",
       "\n",
       "[5 rows x 35 columns]"
      ]
     },
     "execution_count": 23,
     "metadata": {},
     "output_type": "execute_result"
    }
   ],
   "source": [
    "# Display the first few rows of the dataframe\n",
    "# This provides a quick view of the data to verify the contents.\n",
    "\n",
    "data.head()"
   ]
  }
 ],
 "metadata": {
  "environment": {
   "kernel": "python3",
   "name": "tf2-cpu.2-11.m121",
   "type": "gcloud",
   "uri": "us-docker.pkg.dev/deeplearning-platform-release/gcr.io/tf2-cpu.2-11:m121"
  },
  "kernelspec": {
   "display_name": "Python 3 (Local)",
   "language": "python",
   "name": "python3"
  },
  "language_info": {
   "codemirror_mode": {
    "name": "ipython",
    "version": 3
   },
   "file_extension": ".py",
   "mimetype": "text/x-python",
   "name": "python",
   "nbconvert_exporter": "python",
   "pygments_lexer": "ipython3",
   "version": "3.10.14"
  }
 },
 "nbformat": 4,
 "nbformat_minor": 5
}
