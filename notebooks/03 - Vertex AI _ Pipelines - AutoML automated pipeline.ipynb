{
 "cells": [
  {
   "cell_type": "markdown",
   "id": "3cebabe4",
   "metadata": {},
   "source": [
    "#### **Author: Wissem Khlifi**\n",
    "\n",
    "# 03 - Vertex AI > Pipelines - AutoML automated pipeline\n",
    "\n",
    "Use[ Kubeflow](https://www.kubeflow.org/) Pipelines running on [Vertex AI Pipelines](https://cloud.google.com/vertex-ai/docs/pipelines/introduction) to orchestrate the process of training a custom model with AutoML Tabular and deploy it to a Vertex AI Endpoint for serving (online and batch) predictions and explanations.  \n",
    "### Prerequisites:\n",
    "-  01 -  BigQuery - Table Data Source\n",
    "\n",
    "### [HomeWork] Resources:\n",
    "-  [Vertex AI Pipelines](https://cloud.google.com/vertex-ai/docs/pipelines/build-pipeline#google-cloud-components) see aiplatform.PipelineJob\n",
    "-  [Python Client for Vertex AI](https://googleapis.dev/python/aiplatform/latest/aiplatform.html)\n",
    "-  [Kubeflow Pipelines Components for Google Cloud](https://github.com/kubeflow/pipelines/tree/master/components/google-cloud)\n",
    "\n",
    "### [HomeWork] Related Training:\n",
    "-  Codelab: [Vertex AI Pipelines Introduction](https://codelabs.developers.google.com/vertex-mlmd-pipelines#0)\n"
   ]
  },
  {
   "cell_type": "markdown",
   "id": "229cef71",
   "metadata": {},
   "source": [
    "## Setup"
   ]
  },
  {
   "cell_type": "markdown",
   "id": "4b6b82e4",
   "metadata": {},
   "source": [
    "### Inputs:"
   ]
  },
  {
   "cell_type": "code",
   "execution_count": 1,
   "id": "63e4ffbd-4d77-4074-b84a-a9a10fe0b606",
   "metadata": {
    "tags": []
   },
   "outputs": [
    {
     "data": {
      "text/plain": [
       "'genai-demo-2024'"
      ]
     },
     "execution_count": 1,
     "metadata": {},
     "output_type": "execute_result"
    }
   ],
   "source": [
    "# Get the GCP project ID from the gcloud configuration\n",
    "# This ensures the notebook uses the correct GCP project for all operations.\n",
    "\n",
    "project = !gcloud config get-value project\n",
    "PROJECT_ID = project[0]\n",
    "PROJECT_ID"
   ]
  },
  {
   "cell_type": "code",
   "execution_count": 2,
   "id": "b255bf32",
   "metadata": {
    "tags": []
   },
   "outputs": [],
   "source": [
    "# Set the region for GCP services\n",
    "# Specifying the region is necessary for certain GCP services to function correctly.\n",
    "REGION = 'us-central1'\n",
    "\n",
    "# Define source data parameters\n",
    "# These variables specify the BigQuery dataset and table to be used.\n",
    "BQ_PROJECT = PROJECT_ID\n",
    "BQ_DATASET = 'ml_datasets'\n",
    "BQ_TABLE = 'ulb_fraud_detection'\n",
    "\n",
    "# Define the notebook identifier\n",
    "# This helps in organizing and tracking different notebooks.\n",
    "NOTEBOOK = '03'\n",
    "\n",
    "# Resources\n",
    "# Specify the compute resources to be used for model training and deployment.\n",
    "DEPLOY_COMPUTE = 'n1-standard-4'\n",
    "\n",
    "# Model Training\n",
    "# Define the target variable for the model and any variables to omit from the training data.\n",
    "# Model Training\n",
    "# Define the target variable for the model and any variables to omit from the training data.\n",
    "# 'transaction_id' is omitted because it is a unique identifier for each transaction and does not provide useful information \n",
    "# for the model to learn patterns or relationships. Including such unique identifiers can lead to overfitting where the model \n",
    "# memorizes the IDs instead of learning generalizable features. \n",
    "\n",
    "# 'Feedback' is omitted because it may not be directly relevant to the prediction task or it may contain information \n",
    "# that is not useful for the model. Including irrelevant features can introduce noise and reduce the model's performance.\n",
    "\n",
    "# 'service_account_email' is omitted because it is likely the same value for all records in the dataset, \n",
    "# providing no variance for the model to learn from. Features with the same value across all records do not contribute \n",
    "# to the learning process and can be safely excluded.\n",
    "\n",
    "VAR_TARGET = 'Class'\n",
    "VAR_OMIT = 'transaction_id Feedback service_account_email' # add more variables to the string with space delimiters"
   ]
  },
  {
   "cell_type": "markdown",
   "id": "00693f36",
   "metadata": {},
   "source": [
    "### Packages:"
   ]
  },
  {
   "cell_type": "code",
   "execution_count": 6,
   "id": "d1e6b18c-6deb-41dc-a632-8b305705eeec",
   "metadata": {
    "tags": []
   },
   "outputs": [],
   "source": [
    "# Install necessary pipeline components if not already installed\n",
    "# This line can be skipped if already done in a previous notebook (00).\n",
    "#!pip install -U google-cloud-pipeline-components -U -q"
   ]
  },
  {
   "cell_type": "code",
   "execution_count": 5,
   "id": "f3bf8620",
   "metadata": {
    "tags": []
   },
   "outputs": [],
   "source": [
    "# Import necessary libraries for creating and managing AI pipelines\n",
    "\n",
    "from google.cloud import aiplatform # For interacting with Google Cloud Vertex AI \n",
    "from datetime import datetime # For handling date and time operations\n",
    "import kfp # Kubeflow Pipelines SDK\n",
    "from kfp import compiler # For compiling pipeline components\n",
    "#import kfp.v2.dsl as dsl\n",
    "#import google_cloud_pipeline_components as gcc_aip # Vertex platform pipeline components\n",
    "from google_cloud_pipeline_components.v1.dataset import TabularDatasetCreateOp  # For custom Python package training jobs\n",
    "from google_cloud_pipeline_components.v1.automl.training_job import AutoMLTabularTrainingJobRunOp # For custom container training jobs\n",
    "from google_cloud_pipeline_components.v1.endpoint import EndpointCreateOp, ModelDeployOp # For creating endpoints & For deploying models\n",
    "\n",
    "from google.cloud import bigquery # For interacting with BigQuery\n",
    "from google.protobuf import json_format # For handling JSON and protobuf \n",
    "from google.protobuf.struct_pb2 import Value  # For creating protobuf values\n",
    "import json # For general JSON operations\n",
    "import numpy as np # For numerical operations"
   ]
  },
  {
   "cell_type": "markdown",
   "id": "b01a4860",
   "metadata": {},
   "source": [
    "### Clients:"
   ]
  },
  {
   "cell_type": "code",
   "execution_count": 7,
   "id": "d0f88c50",
   "metadata": {
    "tags": []
   },
   "outputs": [],
   "source": [
    "# Initialize Vertex AI Platform and BigQuery clients\n",
    "aiplatform.init(project=PROJECT_ID, location=REGION)\n",
    "bq = bigquery.Client() # Initialize BigQuery client"
   ]
  },
  {
   "cell_type": "markdown",
   "id": "8d14fbbc",
   "metadata": {},
   "source": [
    "### Parameters:"
   ]
  },
  {
   "cell_type": "code",
   "execution_count": 8,
   "id": "f65b2223",
   "metadata": {
    "tags": []
   },
   "outputs": [],
   "source": [
    "# Define parameters for the pipeline execution\n",
    "\n",
    "TIMESTAMP = datetime.now().strftime(\"%Y%m%d%H%M%S\") # Current timestamp for naming and organizing outputs\n",
    "BUCKET = PROJECT_ID # The GCP project ID, used here as the bucket name\n",
    "URI = f\"gs://{BUCKET}/{BQ_TABLE}/models/{NOTEBOOK}\" # GCS URI for saving models\n",
    "DIR = f\"temp/{NOTEBOOK}\" # Local directory for temporary storage"
   ]
  },
  {
   "cell_type": "code",
   "execution_count": 9,
   "id": "2c68630e-4fe3-473d-abb3-16d39fb782e8",
   "metadata": {
    "tags": []
   },
   "outputs": [
    {
     "data": {
      "text/plain": [
       "'292219499736-compute@developer.gserviceaccount.com'"
      ]
     },
     "execution_count": 9,
     "metadata": {},
     "output_type": "execute_result"
    }
   ],
   "source": [
    "# Retrieve the service account email from the gcloud configuration\n",
    "SERVICE_ACCOUNT = !gcloud config list --format='value(core.account)'  # Run gcloud command to get the service account email\n",
    "SERVICE_ACCOUNT = SERVICE_ACCOUNT[0] # Extract the service account email from the command output\n",
    "SERVICE_ACCOUNT"
   ]
  },
  {
   "cell_type": "markdown",
   "id": "d1d35908-9b69-40be-97dc-fb4fb0279709",
   "metadata": {},
   "source": [
    "### List the service accounts current roles:"
   ]
  },
  {
   "cell_type": "code",
   "execution_count": 10,
   "id": "a9f46306-bd55-425a-951a-fd2753807b91",
   "metadata": {
    "tags": []
   },
   "outputs": [
    {
     "name": "stdout",
     "output_type": "stream",
     "text": [
      "ROLE\n",
      "roles/aiplatform.admin\n",
      "roles/aiplatform.notebookRuntimeAdmin\n",
      "roles/aiplatform.user\n",
      "roles/artifactregistry.admin\n",
      "roles/bigquery.admin\n",
      "roles/cloudbuild.builds.editor\n",
      "roles/cloudfunctions.admin\n",
      "roles/cloudscheduler.admin\n",
      "roles/dataproc.worker\n",
      "roles/dialogflow.client\n",
      "roles/dialogflow.reader\n",
      "roles/iam.serviceAccountAdmin\n",
      "roles/iam.serviceAccountUser\n",
      "roles/logging.admin\n",
      "roles/ml.admin\n",
      "roles/notebooks.runner\n",
      "roles/pubsub.admin\n",
      "roles/resourcemanager.projectIamAdmin\n",
      "roles/run.admin\n",
      "roles/secretmanager.admin\n",
      "roles/serviceusage.serviceUsageAdmin\n",
      "roles/serviceusage.serviceUsageConsumer\n",
      "roles/storage.admin\n",
      "roles/storage.objectAdmin\n"
     ]
    }
   ],
   "source": [
    "# Run gcloud command to list roles of the service account\n",
    "!gcloud projects get-iam-policy $PROJECT_ID --filter=\"bindings.members:$SERVICE_ACCOUNT\" --format='table(bindings.role)' --flatten=\"bindings[].members\""
   ]
  },
  {
   "cell_type": "markdown",
   "id": "e8343a71-3484-4352-9753-ec045cb6dfc5",
   "metadata": {},
   "source": [
    ">Note: If the resulting list is missing [roles/storage.objectAdmin](https://cloud.google.com/storage/docs/access-control/iam-roles) then [revisit the setup notebook](../00%20-%20Setup/00%20-%20Environment%20Setup.ipynb#permissions) and add this permission to the service account with the provided instructions."
   ]
  },
  {
   "cell_type": "markdown",
   "id": "10f15187",
   "metadata": {},
   "source": [
    "environment:"
   ]
  },
  {
   "cell_type": "code",
   "execution_count": 11,
   "id": "f7383876",
   "metadata": {
    "tags": []
   },
   "outputs": [],
   "source": [
    "!rm -rf {DIR}\n",
    "!mkdir -p {DIR}"
   ]
  },
  {
   "cell_type": "markdown",
   "id": "c08c3499",
   "metadata": {},
   "source": [
    "## Pipeline (KFP) Definition\n",
    "- Flow\n",
    "    - Create Vertex AI Dataset from link to BigQuery table\n",
    "    - Create Vertex AI AutoML Tabular Training Job\n",
    "    - Create Endpoint and Depoy trained model\n",
    "    \n",
    "Use [AI Platform Pipeline Components](https://google-cloud-pipeline-components.readthedocs.io/en/google-cloud-pipeline-components-0.2.0/)\n",
    "- Specifically, [AutoMLTabularTrainingJobRunOp](https://google-cloud-pipeline-components.readthedocs.io/en/google-cloud-pipeline-components-0.2.0/google_cloud_pipeline_components.aiplatform.html#google_cloud_pipeline_components.aiplatform.AutoMLTabularTrainingJobRunOp)\n",
    "\n",
    "Define a Job:\n",
    "- Consider Weighting :  Adjusts for class imbalance by assigning weights to classes\n",
    "- Model Type : : Specifies the type of model (e.g., classification, regression)\n",
    "- Optimization Objective : Defines the metric to optimize (e.g., AUC for binary classification)"
   ]
  },
  {
   "cell_type": "code",
   "execution_count": 12,
   "id": "eb85abc1",
   "metadata": {
    "tags": []
   },
   "outputs": [],
   "source": [
    "@kfp.dsl.pipeline(\n",
    "    name = f'kfp-{NOTEBOOK}-{BQ_TABLE}-{TIMESTAMP}', # Name of the pipeline\n",
    "    pipeline_root = URI+'/'+str(TIMESTAMP)+'/kfp/' # Root URI for pipeline artifacts\n",
    ")\n",
    "def pipeline(\n",
    "    project: str,\n",
    "    dataname: str,\n",
    "    display_name: str,\n",
    "    deploy_machine: str,\n",
    "    bq_source: str,\n",
    "    var_target: str,\n",
    "    var_omit: str,\n",
    "    features: dict,\n",
    "    labels: dict \n",
    "):\n",
    "    \n",
    "    # Step to create a Vertex AI Dataset from BigQuery table\n",
    "    #  Creates a Vertex AI Dataset from a BigQuery table.\n",
    "    dataset = TabularDatasetCreateOp(\n",
    "        project = project,# GCP project ID\n",
    "        display_name = display_name, # Display name for the dataset\n",
    "        bq_source = bq_source, # BigQuery table source\n",
    "        labels = labels # Labels for the dataset\n",
    "    )\n",
    "    \n",
    "   # Step to run an AutoML Tabular Training Job\n",
    "   # Runs an AutoML Tabular Training Job.\n",
    "    model = AutoMLTabularTrainingJobRunOp(\n",
    "        project = project, # GCP project ID\n",
    "        display_name = display_name, # Display name for the training job\n",
    "        optimization_prediction_type = \"classification\", # Model type\n",
    "        optimization_objective = \"maximize-au-prc\", # Optimization objective\n",
    "        budget_milli_node_hours = 1000, # Training budget in milli node hours\n",
    "        disable_early_stopping=False, # Disable early stopping\n",
    "        column_specs = features, # Feature specifications\n",
    "        dataset = dataset.outputs['dataset'], # Input dataset\n",
    "        target_column = var_target, # Target variable for the model\n",
    "        predefined_split_column_name = 'splits', # Column name for predefined splits\n",
    "        labels = labels # Labels for the training job\n",
    "    )\n",
    "    \n",
    "    # Step to create an endpoint and deploy the trained model\n",
    "    endpoint = EndpointCreateOp(\n",
    "        project = project, # GCP project ID\n",
    "        display_name = display_name, # Display name for the endpoint\n",
    "        labels = labels # Labels for the endpoint\n",
    "    )\n",
    "    \n",
    "    # Endpoint: Deployment of Model\n",
    "    deployment = ModelDeployOp(\n",
    "        model = model.outputs[\"model\"], # Trained model\n",
    "        endpoint = endpoint.outputs[\"endpoint\"], # Endpoint to deploy the model\n",
    "        dedicated_resources_min_replica_count = 1, # Minimum number of replicas\n",
    "        dedicated_resources_max_replica_count = 1, # Maximum number of replicas\n",
    "        traffic_split = {\"0\": 100}, # Percentage of traffic to be directed to the mode\n",
    "        dedicated_resources_machine_type= deploy_machine # Machine type for the endpoint\n",
    "    )"
   ]
  },
  {
   "cell_type": "markdown",
   "id": "9a4076e2-a937-4bd6-9215-95cd3d7d9315",
   "metadata": {},
   "source": [
    "#### Explanation of Training Budget in Milli Node Hours :\n",
    "In Vertex AI, the training budget is specified in milli node hours. This parameter controls the amount of computational resources allocated for the training job. Here’s a detailed explanation:\n",
    " - What are Node Hours?  A node hour represents one hour of computation on a single node (or machine) in the cloud. The node type (e.g., standard, high-memory, or high-CPU) determines the compute power of each node.\n",
    "- Milli Node Hours : This unit allows finer control over the budget. One milli node hour is one-thousandth of a node hour.\n",
    "- 1 Node Hour = 1,000 Milli Node Hours : This means you can specify smaller increments of compute time, providing more flexibility in managing costs and resources.\n",
    "- Why Use Milli Node Hours? Cost Management : Using milli node hours helps in accurately controlling the budget for the training job. You can allocate just the right amount of resources needed without over-provisioning.\n"
   ]
  },
  {
   "cell_type": "markdown",
   "id": "4bd7cda6",
   "metadata": {},
   "source": [
    "---\n",
    "## Compile Pipeline"
   ]
  },
  {
   "cell_type": "code",
   "execution_count": 13,
   "id": "db3e8ce2",
   "metadata": {
    "tags": []
   },
   "outputs": [],
   "source": [
    "# Compile the pipeline to a JSON file\n",
    "# The compiled pipeline is stored in a specified directory for execution.\n",
    "\n",
    "compiler.Compiler().compile(\n",
    "    pipeline_func = pipeline, # The pipeline function to be compiled\n",
    "    package_path = f\"{DIR}/{NOTEBOOK}.json\"  # The path where the compiled JSON file will be saved\n",
    ")"
   ]
  },
  {
   "cell_type": "markdown",
   "id": "72d3a04e",
   "metadata": {},
   "source": [
    "#### Move compiled pipeline files to GCS Bucket"
   ]
  },
  {
   "cell_type": "code",
   "execution_count": 14,
   "id": "671d4cbe",
   "metadata": {
    "tags": []
   },
   "outputs": [
    {
     "name": "stdout",
     "output_type": "stream",
     "text": [
      "Copying file://temp/03/03.json [Content-Type=application/json]...\n",
      "/ [1 files][ 46.6 KiB/ 46.6 KiB]                                                \n",
      "Operation completed over 1 objects/46.6 KiB.                                     \n"
     ]
    }
   ],
   "source": [
    "# Copy the compiled pipeline JSON file to Google Cloud Storage (GCS)\n",
    "# This allows the pipeline to be accessed and executed by Vertex AI.\n",
    "\n",
    "!gsutil cp {DIR}/{NOTEBOOK}.json {URI}/{TIMESTAMP}/kfp/"
   ]
  },
  {
   "cell_type": "markdown",
   "id": "45241ff1",
   "metadata": {},
   "source": [
    "---\n",
    "## Create Vertex AI Pipeline Job"
   ]
  },
  {
   "cell_type": "markdown",
   "id": "9fed3319-fac1-45bb-9483-e02cfd4e0e3e",
   "metadata": {},
   "source": [
    "Get features dictionary for the pipeline input:"
   ]
  },
  {
   "cell_type": "code",
   "execution_count": 15,
   "id": "0ad629ff-3843-4e54-8a80-27bd7bb20cb7",
   "metadata": {
    "tags": []
   },
   "outputs": [
    {
     "data": {
      "text/plain": [
       "\"SELECT * FROM genai-demo-2024.ml_datasets.INFORMATION_SCHEMA.COLUMNS WHERE TABLE_NAME = 'ulb_fraud_detection_prepped'\""
      ]
     },
     "execution_count": 15,
     "metadata": {},
     "output_type": "execute_result"
    }
   ],
   "source": [
    "# Get feature names from the BigQuery table schema\n",
    "# This step retrieves the schema of the table to identify which columns will be used as features.\n",
    "# Define the query to fetch column names from the BigQuery table schema\n",
    "query = f\"SELECT * FROM {BQ_PROJECT}.{BQ_DATASET}.INFORMATION_SCHEMA.COLUMNS WHERE TABLE_NAME = '{BQ_TABLE}_prepped'\"\n",
    "# Execute the query and convert the result to a DataFrame\n",
    "schema = bq.query(query).to_dataframe()\n",
    "# Filter out columns to be omitted from the features list\n",
    "OMIT = VAR_OMIT.split() + [VAR_TARGET, 'splits']\n",
    "features = schema[~schema.column_name.isin(OMIT)].column_name.tolist()\n",
    "# Convert the list of features to a dictionary format required by the pipeline\n",
    "features = dict.fromkeys(features, 'auto')\n",
    "# Display the query used for debugging purposes\n",
    "query\n"
   ]
  },
  {
   "cell_type": "markdown",
   "id": "0adf1a54-05f1-48f9-99e5-3de1c8f40bd5",
   "metadata": {},
   "source": [
    "#####  Run The pipeline:"
   ]
  },
  {
   "cell_type": "code",
   "execution_count": 16,
   "id": "f5dd3e4c",
   "metadata": {
    "tags": []
   },
   "outputs": [],
   "source": [
    "pipeline = aiplatform.PipelineJob(\n",
    "    display_name = f'{NOTEBOOK}_{BQ_TABLE}_{TIMESTAMP}', # Display name for the pipeline job\n",
    "    template_path = f\"{URI}/{TIMESTAMP}/kfp/{NOTEBOOK}.json\", # Path to the compiled pipeline JSON file in GCS\n",
    "    parameter_values = {\n",
    "        \"project\" : PROJECT_ID,\n",
    "        \"dataname\" : BQ_TABLE,\n",
    "        \"display_name\" : f'{NOTEBOOK}_{BQ_TABLE}_{TIMESTAMP}',\n",
    "        \"deploy_machine\" : DEPLOY_COMPUTE,\n",
    "        \"bq_source\" : f'bq://{BQ_PROJECT}.{BQ_DATASET}.{BQ_TABLE}_prepped',\n",
    "        \"var_target\" : VAR_TARGET,\n",
    "        \"var_omit\" : VAR_OMIT,\n",
    "        \"features\" : features,\n",
    "        \"labels\" : {'notebook': NOTEBOOK}       \n",
    "    }, # Dictionary of parameters to pass to the pipeline\n",
    "    labels = {'notebook': NOTEBOOK},\n",
    "    enable_caching=False\n",
    ")"
   ]
  },
  {
   "cell_type": "code",
   "execution_count": 17,
   "id": "5ee521df",
   "metadata": {
    "scrolled": true,
    "tags": []
   },
   "outputs": [
    {
     "name": "stdout",
     "output_type": "stream",
     "text": [
      "Creating PipelineJob\n",
      "PipelineJob created. Resource name: projects/292219499736/locations/us-central1/pipelineJobs/kfp-03-ulb-fraud-detection-20240527124725-20240527130427\n",
      "To use this PipelineJob in another session:\n",
      "pipeline_job = aiplatform.PipelineJob.get('projects/292219499736/locations/us-central1/pipelineJobs/kfp-03-ulb-fraud-detection-20240527124725-20240527130427')\n",
      "View Pipeline Job:\n",
      "https://console.cloud.google.com/vertex-ai/locations/us-central1/pipelines/runs/kfp-03-ulb-fraud-detection-20240527124725-20240527130427?project=292219499736\n",
      "PipelineJob projects/292219499736/locations/us-central1/pipelineJobs/kfp-03-ulb-fraud-detection-20240527124725-20240527130427 current state:\n",
      "PipelineState.PIPELINE_STATE_RUNNING\n",
      "PipelineJob projects/292219499736/locations/us-central1/pipelineJobs/kfp-03-ulb-fraud-detection-20240527124725-20240527130427 current state:\n",
      "PipelineState.PIPELINE_STATE_RUNNING\n",
      "PipelineJob projects/292219499736/locations/us-central1/pipelineJobs/kfp-03-ulb-fraud-detection-20240527124725-20240527130427 current state:\n",
      "PipelineState.PIPELINE_STATE_RUNNING\n",
      "PipelineJob projects/292219499736/locations/us-central1/pipelineJobs/kfp-03-ulb-fraud-detection-20240527124725-20240527130427 current state:\n",
      "PipelineState.PIPELINE_STATE_RUNNING\n",
      "PipelineJob projects/292219499736/locations/us-central1/pipelineJobs/kfp-03-ulb-fraud-detection-20240527124725-20240527130427 current state:\n",
      "PipelineState.PIPELINE_STATE_RUNNING\n",
      "PipelineJob projects/292219499736/locations/us-central1/pipelineJobs/kfp-03-ulb-fraud-detection-20240527124725-20240527130427 current state:\n",
      "PipelineState.PIPELINE_STATE_RUNNING\n",
      "PipelineJob projects/292219499736/locations/us-central1/pipelineJobs/kfp-03-ulb-fraud-detection-20240527124725-20240527130427 current state:\n",
      "PipelineState.PIPELINE_STATE_RUNNING\n",
      "PipelineJob projects/292219499736/locations/us-central1/pipelineJobs/kfp-03-ulb-fraud-detection-20240527124725-20240527130427 current state:\n",
      "PipelineState.PIPELINE_STATE_RUNNING\n",
      "PipelineJob projects/292219499736/locations/us-central1/pipelineJobs/kfp-03-ulb-fraud-detection-20240527124725-20240527130427 current state:\n",
      "PipelineState.PIPELINE_STATE_RUNNING\n",
      "PipelineJob projects/292219499736/locations/us-central1/pipelineJobs/kfp-03-ulb-fraud-detection-20240527124725-20240527130427 current state:\n",
      "PipelineState.PIPELINE_STATE_RUNNING\n",
      "PipelineJob projects/292219499736/locations/us-central1/pipelineJobs/kfp-03-ulb-fraud-detection-20240527124725-20240527130427 current state:\n",
      "PipelineState.PIPELINE_STATE_RUNNING\n",
      "PipelineJob projects/292219499736/locations/us-central1/pipelineJobs/kfp-03-ulb-fraud-detection-20240527124725-20240527130427 current state:\n",
      "PipelineState.PIPELINE_STATE_RUNNING\n",
      "PipelineJob projects/292219499736/locations/us-central1/pipelineJobs/kfp-03-ulb-fraud-detection-20240527124725-20240527130427 current state:\n",
      "PipelineState.PIPELINE_STATE_RUNNING\n",
      "PipelineJob projects/292219499736/locations/us-central1/pipelineJobs/kfp-03-ulb-fraud-detection-20240527124725-20240527130427 current state:\n",
      "PipelineState.PIPELINE_STATE_RUNNING\n",
      "PipelineJob projects/292219499736/locations/us-central1/pipelineJobs/kfp-03-ulb-fraud-detection-20240527124725-20240527130427 current state:\n",
      "PipelineState.PIPELINE_STATE_RUNNING\n",
      "PipelineJob projects/292219499736/locations/us-central1/pipelineJobs/kfp-03-ulb-fraud-detection-20240527124725-20240527130427 current state:\n",
      "PipelineState.PIPELINE_STATE_RUNNING\n",
      "PipelineJob projects/292219499736/locations/us-central1/pipelineJobs/kfp-03-ulb-fraud-detection-20240527124725-20240527130427 current state:\n",
      "PipelineState.PIPELINE_STATE_RUNNING\n",
      "PipelineJob projects/292219499736/locations/us-central1/pipelineJobs/kfp-03-ulb-fraud-detection-20240527124725-20240527130427 current state:\n",
      "PipelineState.PIPELINE_STATE_RUNNING\n",
      "PipelineJob projects/292219499736/locations/us-central1/pipelineJobs/kfp-03-ulb-fraud-detection-20240527124725-20240527130427 current state:\n",
      "PipelineState.PIPELINE_STATE_RUNNING\n",
      "PipelineJob projects/292219499736/locations/us-central1/pipelineJobs/kfp-03-ulb-fraud-detection-20240527124725-20240527130427 current state:\n",
      "PipelineState.PIPELINE_STATE_RUNNING\n",
      "PipelineJob projects/292219499736/locations/us-central1/pipelineJobs/kfp-03-ulb-fraud-detection-20240527124725-20240527130427 current state:\n",
      "PipelineState.PIPELINE_STATE_RUNNING\n",
      "PipelineJob projects/292219499736/locations/us-central1/pipelineJobs/kfp-03-ulb-fraud-detection-20240527124725-20240527130427 current state:\n",
      "PipelineState.PIPELINE_STATE_RUNNING\n",
      "PipelineJob projects/292219499736/locations/us-central1/pipelineJobs/kfp-03-ulb-fraud-detection-20240527124725-20240527130427 current state:\n",
      "PipelineState.PIPELINE_STATE_RUNNING\n",
      "PipelineJob projects/292219499736/locations/us-central1/pipelineJobs/kfp-03-ulb-fraud-detection-20240527124725-20240527130427 current state:\n",
      "PipelineState.PIPELINE_STATE_RUNNING\n",
      "PipelineJob projects/292219499736/locations/us-central1/pipelineJobs/kfp-03-ulb-fraud-detection-20240527124725-20240527130427 current state:\n",
      "PipelineState.PIPELINE_STATE_RUNNING\n",
      "PipelineJob projects/292219499736/locations/us-central1/pipelineJobs/kfp-03-ulb-fraud-detection-20240527124725-20240527130427 current state:\n",
      "PipelineState.PIPELINE_STATE_RUNNING\n",
      "PipelineJob projects/292219499736/locations/us-central1/pipelineJobs/kfp-03-ulb-fraud-detection-20240527124725-20240527130427 current state:\n",
      "PipelineState.PIPELINE_STATE_RUNNING\n",
      "PipelineJob projects/292219499736/locations/us-central1/pipelineJobs/kfp-03-ulb-fraud-detection-20240527124725-20240527130427 current state:\n",
      "PipelineState.PIPELINE_STATE_RUNNING\n",
      "PipelineJob projects/292219499736/locations/us-central1/pipelineJobs/kfp-03-ulb-fraud-detection-20240527124725-20240527130427 current state:\n",
      "PipelineState.PIPELINE_STATE_RUNNING\n",
      "PipelineJob projects/292219499736/locations/us-central1/pipelineJobs/kfp-03-ulb-fraud-detection-20240527124725-20240527130427 current state:\n",
      "PipelineState.PIPELINE_STATE_RUNNING\n",
      "PipelineJob projects/292219499736/locations/us-central1/pipelineJobs/kfp-03-ulb-fraud-detection-20240527124725-20240527130427 current state:\n",
      "PipelineState.PIPELINE_STATE_RUNNING\n",
      "PipelineJob projects/292219499736/locations/us-central1/pipelineJobs/kfp-03-ulb-fraud-detection-20240527124725-20240527130427 current state:\n",
      "PipelineState.PIPELINE_STATE_RUNNING\n",
      "PipelineJob projects/292219499736/locations/us-central1/pipelineJobs/kfp-03-ulb-fraud-detection-20240527124725-20240527130427 current state:\n",
      "PipelineState.PIPELINE_STATE_RUNNING\n",
      "PipelineJob projects/292219499736/locations/us-central1/pipelineJobs/kfp-03-ulb-fraud-detection-20240527124725-20240527130427 current state:\n",
      "PipelineState.PIPELINE_STATE_RUNNING\n",
      "PipelineJob run completed. Resource name: projects/292219499736/locations/us-central1/pipelineJobs/kfp-03-ulb-fraud-detection-20240527124725-20240527130427\n"
     ]
    }
   ],
   "source": [
    "# Run the pipeline job\n",
    "# this job would take +2 hours,  depending on your infrastcuture\n",
    "response = pipeline.run(\n",
    "    service_account = SERVICE_ACCOUNT\n",
    ")"
   ]
  },
  {
   "cell_type": "markdown",
   "id": "7ff8a657-b3b6-41ac-bf4b-719ace1584d3",
   "metadata": {},
   "source": [
    "## **For the remaining commands in the notebook: Since the pipeline job takes a significant amount of time to complete, we will demonstrate the results of the following commands on stage.**\n"
   ]
  },
  {
   "cell_type": "markdown",
   "id": "6e4c8e67-bceb-4629-a246-6a6f18a1c530",
   "metadata": {},
   "source": [
    "Visual Representation of the pipeline can be viewed in the console:"
   ]
  },
  {
   "cell_type": "code",
   "execution_count": null,
   "id": "bd262fe9-0693-446a-be88-779e15fb0809",
   "metadata": {
    "tags": []
   },
   "outputs": [],
   "source": [
    "# Review the Pipeline as it runs here:\n",
    "print(f\"Review the Pipeline as it runs here:\\nhttps://console.cloud.google.com/vertex-ai/locations/{REGION}/pipelines/runs/{pipeline.resource_name.split('/')[-1]}?project={PROJECT_ID}\")"
   ]
  },
  {
   "cell_type": "code",
   "execution_count": 19,
   "id": "7ea82f4f-435b-49b6-aca9-9c456cb65a2b",
   "metadata": {
    "tags": []
   },
   "outputs": [
    {
     "name": "stdout",
     "output_type": "stream",
     "text": [
      "<google.cloud.aiplatform.pipeline_jobs.PipelineJob object at 0x7fe5aae50dc0> \n",
      "resource name: projects/292219499736/locations/us-central1/pipelineJobs/kfp-03-ulb-fraud-detection-20240527124725-20240527130427\n",
      "kfp-03-ulb_fraud_detection-20240527124725\n"
     ]
    }
   ],
   "source": [
    "# Print the pipeline details\n",
    "\n",
    "print(pipeline)\n",
    "print(f'kfp-{NOTEBOOK}-{BQ_TABLE}-{TIMESTAMP}')"
   ]
  },
  {
   "cell_type": "markdown",
   "id": "0523ffaa-9dfb-41cb-b7b5-6cc6ddae1613",
   "metadata": {
    "tags": []
   },
   "source": [
    "## Evaluation\n",
    "While the model above was trained using AutoML with the API, it is still possible to review the evaluation metrics directly in the Google Cloud Console.  Just visit the Models section of Vertex AI service and select the model and it will present the evaluation metrics with many helpful visuals.\n",
    "\n",
    "It is also possible to retrieve the evaluation metrics for you model using the API.  This section shows how to use the API."
   ]
  },
  {
   "cell_type": "markdown",
   "id": "27b1c3f1",
   "metadata": {},
   "source": [
    "##### Get the Model:"
   ]
  },
  {
   "cell_type": "code",
   "execution_count": 22,
   "id": "b6634c0d",
   "metadata": {
    "tags": []
   },
   "outputs": [],
   "source": [
    "# Retrieve the model trained using AutoML\n",
    "models = aiplatform.Model.list(filter=f'labels.notebook={NOTEBOOK}')"
   ]
  },
  {
   "cell_type": "code",
   "execution_count": 23,
   "id": "a4f7b61b-ad0f-487b-8dc6-ac8ed12e6afb",
   "metadata": {
    "tags": []
   },
   "outputs": [
    {
     "data": {
      "text/plain": [
       "'projects/292219499736/locations/us-central1/models/3777518432270942208'"
      ]
     },
     "execution_count": 23,
     "metadata": {},
     "output_type": "execute_result"
    }
   ],
   "source": [
    "model = models[0]\n",
    "model.resource_name"
   ]
  },
  {
   "cell_type": "markdown",
   "id": "71227e04-8bb0-46d5-862e-3fddfe0361ae",
   "metadata": {},
   "source": [
    "Retrives the aggregate model evalution metrics for the model as a whole.  \n",
    "\n",
    "Either:\n",
    "- First, use `model.list_model_evaluations()` to retrieve the evaluation id, then use `model.get_model_evaluation(evaluation_id = )` for the evaluation id\n",
    "- Or, use `.get_model_evaluation()` and it will retrieve the first model evaluation"
   ]
  },
  {
   "cell_type": "code",
   "execution_count": 24,
   "id": "b7b5d7e0-6ef5-4787-a5d0-953848318989",
   "metadata": {
    "tags": []
   },
   "outputs": [
    {
     "data": {
      "text/html": [
       "\n",
       "        \n",
       "    <link rel=\"stylesheet\" href=\"https://fonts.googleapis.com/icon?family=Material+Icons\">\n",
       "    <style>\n",
       "      .view-vertex-resource,\n",
       "      .view-vertex-resource:hover,\n",
       "      .view-vertex-resource:visited {\n",
       "        position: relative;\n",
       "        display: inline-flex;\n",
       "        flex-direction: row;\n",
       "        height: 32px;\n",
       "        padding: 0 12px;\n",
       "          margin: 4px 18px;\n",
       "        gap: 4px;\n",
       "        border-radius: 4px;\n",
       "\n",
       "        align-items: center;\n",
       "        justify-content: center;\n",
       "        background-color: rgb(255, 255, 255);\n",
       "        color: rgb(51, 103, 214);\n",
       "\n",
       "        font-family: Roboto,\"Helvetica Neue\",sans-serif;\n",
       "        font-size: 13px;\n",
       "        font-weight: 500;\n",
       "        text-transform: uppercase;\n",
       "        text-decoration: none !important;\n",
       "\n",
       "        transition: box-shadow 280ms cubic-bezier(0.4, 0, 0.2, 1) 0s;\n",
       "        box-shadow: 0px 3px 1px -2px rgba(0,0,0,0.2), 0px 2px 2px 0px rgba(0,0,0,0.14), 0px 1px 5px 0px rgba(0,0,0,0.12);\n",
       "      }\n",
       "      .view-vertex-resource:active {\n",
       "        box-shadow: 0px 5px 5px -3px rgba(0,0,0,0.2),0px 8px 10px 1px rgba(0,0,0,0.14),0px 3px 14px 2px rgba(0,0,0,0.12);\n",
       "      }\n",
       "      .view-vertex-resource:active .view-vertex-ripple::before {\n",
       "        position: absolute;\n",
       "        top: 0;\n",
       "        bottom: 0;\n",
       "        left: 0;\n",
       "        right: 0;\n",
       "        border-radius: 4px;\n",
       "        pointer-events: none;\n",
       "\n",
       "        content: '';\n",
       "        background-color: rgb(51, 103, 214);\n",
       "        opacity: 0.12;\n",
       "      }\n",
       "      .view-vertex-icon {\n",
       "        font-size: 18px;\n",
       "      }\n",
       "    </style>\n",
       "  \n",
       "        <a class=\"view-vertex-resource\" id=\"view-vertex-resource-86edc46f-29e9-45b9-a7f9-723dc19e93d4\" href=\"#view-view-vertex-resource-86edc46f-29e9-45b9-a7f9-723dc19e93d4\">\n",
       "          <span class=\"material-icons view-vertex-icon\">model_training</span>\n",
       "          <span>View Model Evaluation</span>\n",
       "        </a>\n",
       "        \n",
       "        <script>\n",
       "          (function () {\n",
       "            const link = document.getElementById('view-vertex-resource-86edc46f-29e9-45b9-a7f9-723dc19e93d4');\n",
       "            link.addEventListener('click', (e) => {\n",
       "              if (window.google?.colab?.openUrl) {\n",
       "                window.google.colab.openUrl('https://console.cloud.google.com/vertex-ai/models/locations/us-central1/models/3777518432270942208/versions/1/evaluations/6835074947119957086?project=292219499736');\n",
       "              } else {\n",
       "                window.open('https://console.cloud.google.com/vertex-ai/models/locations/us-central1/models/3777518432270942208/versions/1/evaluations/6835074947119957086?project=292219499736', '_blank');\n",
       "              }\n",
       "              e.stopPropagation();\n",
       "              e.preventDefault();\n",
       "            });\n",
       "          })();\n",
       "        </script>\n",
       "    "
      ],
      "text/plain": [
       "<IPython.core.display.HTML object>"
      ]
     },
     "metadata": {},
     "output_type": "display_data"
    }
   ],
   "source": [
    "# Retrieve the aggregate model evaluation metrics for the model as a whole\n",
    "evaluation = model.get_model_evaluation().to_dict() # get first evaluation"
   ]
  },
  {
   "cell_type": "code",
   "execution_count": 25,
   "id": "35848c5d-d9af-4109-abd5-f093adba2acc",
   "metadata": {
    "tags": []
   },
   "outputs": [
    {
     "data": {
      "text/plain": [
       "dict_keys(['name', 'metricsSchemaUri', 'metrics', 'createTime', 'sliceDimensions', 'modelExplanation'])"
      ]
     },
     "execution_count": 25,
     "metadata": {},
     "output_type": "execute_result"
    }
   ],
   "source": [
    "# View model evaluation\n",
    "evaluation.keys()"
   ]
  },
  {
   "cell_type": "code",
   "execution_count": 26,
   "id": "1763abbd-d2f4-430a-9a03-9e5af413b82a",
   "metadata": {
    "tags": []
   },
   "outputs": [
    {
     "data": {
      "text/plain": [
       "dict_keys(['auPrc', 'auRoc', 'logLoss', 'confusionMatrix', 'confidenceMetrics'])"
      ]
     },
     "execution_count": 26,
     "metadata": {},
     "output_type": "execute_result"
    }
   ],
   "source": [
    "# Key metrics to observe\n",
    "evaluation['metrics'].keys()"
   ]
  },
  {
   "cell_type": "code",
   "execution_count": 27,
   "id": "45bd1c4b-00a3-4b2c-95a0-bb837307f8a0",
   "metadata": {
    "tags": []
   },
   "outputs": [
    {
     "data": {
      "text/plain": [
       "{'falseNegativeCount': '4',\n",
       " 'recallAt1': 0.99971586,\n",
       " 'falsePositiveRateAt1': 0.00028416154,\n",
       " 'truePositiveCount': '28149',\n",
       " 'recall': 0.9998579,\n",
       " 'trueNegativeCount': '28111',\n",
       " 'confidenceThreshold': 0.01,\n",
       " 'falsePositiveRate': 0.0014918481,\n",
       " 'precisionAt1': 0.99971586,\n",
       " 'confusionMatrix': {'rows': [[28132.0, 1.0, 0.0],\n",
       "   [7.0, 13.0, 0.0],\n",
       "   [0.0, 0.0, 0.0]],\n",
       "  'annotationSpecs': [{'displayName': '0', 'id': '0'},\n",
       "   {'displayName': '1', 'id': '1'},\n",
       "   {'displayName': 'DROPPED', 'id': 'DROPPED'}]},\n",
       " 'precision': 0.9985102,\n",
       " 'f1ScoreAt1': 0.99971586,\n",
       " 'f1ScoreMacro': 0.7710177,\n",
       " 'f1Score': 0.9991836,\n",
       " 'falsePositiveCount': '42',\n",
       " 'f1ScoreMicro': 0.9991836}"
      ]
     },
     "execution_count": 27,
     "metadata": {},
     "output_type": "execute_result"
    }
   ],
   "source": [
    "# Accessing detailed metrics including confidence metrics\n",
    "evaluation['metrics']['confidenceMetrics'][3]"
   ]
  },
  {
   "cell_type": "markdown",
   "id": "39aa9551-2e4a-4673-b0d5-1ddec1233e0e",
   "metadata": {},
   "source": [
    "Review several of the metrics included in the evaluation.  Also, compare these to the results in the console view."
   ]
  },
  {
   "cell_type": "code",
   "execution_count": 28,
   "id": "bedd8a0e-cb68-4c45-bb58-c8622b9b0a96",
   "metadata": {
    "tags": []
   },
   "outputs": [
    {
     "name": "stdout",
     "output_type": "stream",
     "text": [
      "Review this model in the console:\n",
      "https://console.cloud.google.com/vertex-ai/locations/us-central1/models/3777518432270942208/versions/1/evaluations/6835074947119957086?project=genai-demo-2024\n"
     ]
    }
   ],
   "source": [
    "print(f\"Review this model in the console:\\nhttps://console.cloud.google.com/vertex-ai/locations/{REGION}/models/{model.name}/versions/{model.version_id}/evaluations/{evaluation['name'].split('/')[-1]}?project={PROJECT_ID}\")"
   ]
  },
  {
   "cell_type": "code",
   "execution_count": 29,
   "id": "8dd6e04f-c0ec-4ad1-a8be-460cddcb0267",
   "metadata": {
    "tags": []
   },
   "outputs": [
    {
     "data": {
      "text/plain": [
       "0.9998602"
      ]
     },
     "execution_count": 29,
     "metadata": {},
     "output_type": "execute_result"
    }
   ],
   "source": [
    "# AUC-PR value\n",
    "evaluation['metrics']['auPrc']"
   ]
  },
  {
   "cell_type": "markdown",
   "id": "cd2a7cc7-bfa0-40b2-8374-f7da9b70f2c9",
   "metadata": {},
   "source": [
    "##### - **Interpretation of the Results**:\n",
    "**Example : (Your results could be different)**\n",
    "\n",
    "An AUC-PR value of `0.9998602` indicates an excellent model performance. The closer the value is to `1.0`, the better the model is at distinguishing between the positive and negative classes."
   ]
  },
  {
   "cell_type": "code",
   "execution_count": 30,
   "id": "edd9892b-eeac-4a64-aa9b-68a7a45a3e76",
   "metadata": {
    "tags": []
   },
   "outputs": [
    {
     "name": "stdout",
     "output_type": "stream",
     "text": [
      "True Label =  0  has Predicted labels =  [28132.0, 1.0, 0.0]\n",
      "True Label =  1  has Predicted labels =  [7.0, 13.0, 0.0]\n",
      "True Label =  DROPPED  has Predicted labels =  [0.0, 0.0, 0.0]\n"
     ]
    }
   ],
   "source": [
    "# Access and print the confusion matrix\n",
    "# Print the confusion matrix, which shows how often each class is predicted correctly versus incorrectly.\n",
    "\n",
    "for i in range(len(evaluation['metrics']['confusionMatrix']['annotationSpecs'])):\n",
    "    print('True Label = ', evaluation['metrics']['confusionMatrix']['annotationSpecs'][i]['displayName'], ' has Predicted labels = ', evaluation['metrics']['confusionMatrix']['rows'][i])"
   ]
  },
  {
   "cell_type": "markdown",
   "id": "2266afe6-be3f-4565-afd9-cb839682df2c",
   "metadata": {},
   "source": [
    "For models with labels you can retrieve the evaluation metrics for each slice of the model as well using the .gapic api version:"
   ]
  },
  {
   "cell_type": "markdown",
   "id": "fb33d0d2-49c3-42f4-bebd-dee6e9b34603",
   "metadata": {},
   "source": [
    "##### - **Interpretation**:\n",
    "  - **True Label = 0**: Shows the breakdown of predictions for instances that are truly negative. , `28,132` were correctly predicted as `0`, and `1` was incorrectly predicted as `1`.\n",
    "  - **True Label = 1**: Shows the breakdown of predictions for instances that are truly positive. `7` were incorrectly predicted as `0`, and `13` were correctly predicted as `1`.\n",
    "  - **True Label = DROPPED**: Indicates no instances were labeled as \"DROPPED\". (No instances were actually labeled as \"DROPPED\", indicating that this label was not present or was excluded.)\n",
    "\n",
    "This confusion matrix shows that the model has a high number of true positives and true negatives, indicating good predictive performance, especially in distinguishing the negative class"
   ]
  },
  {
   "cell_type": "code",
   "execution_count": 31,
   "id": "703ce330-8b74-44ff-a71f-f7670a1d924f",
   "metadata": {
    "tags": []
   },
   "outputs": [],
   "source": [
    "# Retrieving and Printing Evaluation Slices\n",
    "# Create a model client to interact with the model evaluation API\n",
    "model_client = aiplatform.gapic.ModelServiceClient(\n",
    "    client_options = {\n",
    "        'api_endpoint' : f'{REGION}-aiplatform.googleapis.com'\n",
    "    }\n",
    ")"
   ]
  },
  {
   "cell_type": "code",
   "execution_count": 32,
   "id": "045a6f0d-ab29-4825-a29e-335f5a1727e1",
   "metadata": {
    "tags": []
   },
   "outputs": [],
   "source": [
    "# List model evaluation slices\n",
    "# Slices can be used to evaluate model performance on different subsets of the data\n",
    "\n",
    "slices = model_client.list_model_evaluation_slices(parent = evaluation['name'])"
   ]
  },
  {
   "cell_type": "code",
   "execution_count": 33,
   "id": "4b7b5c5a-d43c-4c77-8806-fa92f6438e19",
   "metadata": {
    "tags": []
   },
   "outputs": [
    {
     "name": "stdout",
     "output_type": "stream",
     "text": [
      "Label =  0 has auPrc =  0.9998931\n",
      "Label =  1 has auPrc =  0.7696064\n"
     ]
    }
   ],
   "source": [
    "# Iterate through each slice and print its metrics\n",
    "for slice in slices:\n",
    "    print('Label = ', slice.slice_.value, 'has auPrc = ', slice.metrics['auPrc'])"
   ]
  },
  {
   "cell_type": "markdown",
   "id": "7503073e-47cd-47ec-95da-2808c18c25e8",
   "metadata": {},
   "source": [
    "##### - **Interpretation of the Results**: \n",
    "**Example : (Your results could be different)**\n",
    "  - **Label = 1 (Positive Class)**: The AUC-PR for the positive class is `0.7696064`, indicating good but not perfect performance in predicting the positive class.\n",
    "  - **Label = 0 (Negative Class)**: The AUC-PR for the negative class is `0.9998931`, indicating excellent performance in predicting the negative class.\n"
   ]
  },
  {
   "cell_type": "markdown",
   "id": "3829782e",
   "metadata": {},
   "source": [
    "---\n",
    "## Prediction"
   ]
  },
  {
   "cell_type": "markdown",
   "id": "0269e25d",
   "metadata": {},
   "source": [
    "### Prepare a record for prediction: instance and parameters lists"
   ]
  },
  {
   "cell_type": "code",
   "execution_count": 34,
   "id": "5bda8542",
   "metadata": {
    "tags": []
   },
   "outputs": [],
   "source": [
    "# Execute the query and convert the result to a DataFrame\n",
    "\n",
    "pred = bq.query(\n",
    "    query = f\"\"\"\n",
    "        SELECT * EXCEPT({VAR_TARGET}, splits, transaction_id, Feedback)\n",
    "        FROM {BQ_PROJECT}.{BQ_DATASET}.{BQ_TABLE}_prepped\n",
    "        WHERE splits='TEST'\n",
    "        LIMIT 10\n",
    "    \"\"\"\n",
    ").to_dataframe()"
   ]
  },
  {
   "cell_type": "code",
   "execution_count": 35,
   "id": "bb5a77b7",
   "metadata": {
    "tags": []
   },
   "outputs": [
    {
     "data": {
      "text/html": [
       "<div>\n",
       "<style scoped>\n",
       "    .dataframe tbody tr th:only-of-type {\n",
       "        vertical-align: middle;\n",
       "    }\n",
       "\n",
       "    .dataframe tbody tr th {\n",
       "        vertical-align: top;\n",
       "    }\n",
       "\n",
       "    .dataframe thead th {\n",
       "        text-align: right;\n",
       "    }\n",
       "</style>\n",
       "<table border=\"1\" class=\"dataframe\">\n",
       "  <thead>\n",
       "    <tr style=\"text-align: right;\">\n",
       "      <th></th>\n",
       "      <th>Time</th>\n",
       "      <th>V1</th>\n",
       "      <th>V2</th>\n",
       "      <th>V3</th>\n",
       "      <th>V4</th>\n",
       "      <th>V5</th>\n",
       "      <th>V6</th>\n",
       "      <th>V7</th>\n",
       "      <th>V8</th>\n",
       "      <th>V9</th>\n",
       "      <th>...</th>\n",
       "      <th>V21</th>\n",
       "      <th>V22</th>\n",
       "      <th>V23</th>\n",
       "      <th>V24</th>\n",
       "      <th>V25</th>\n",
       "      <th>V26</th>\n",
       "      <th>V27</th>\n",
       "      <th>V28</th>\n",
       "      <th>Amount</th>\n",
       "      <th>service_account_email</th>\n",
       "    </tr>\n",
       "  </thead>\n",
       "  <tbody>\n",
       "    <tr>\n",
       "      <th>0</th>\n",
       "      <td>66341.0</td>\n",
       "      <td>-1.975549</td>\n",
       "      <td>-1.606799</td>\n",
       "      <td>0.081444</td>\n",
       "      <td>-2.159326</td>\n",
       "      <td>0.589567</td>\n",
       "      <td>0.334022</td>\n",
       "      <td>0.091121</td>\n",
       "      <td>0.745302</td>\n",
       "      <td>-1.320319</td>\n",
       "      <td>...</td>\n",
       "      <td>0.071180</td>\n",
       "      <td>-0.009378</td>\n",
       "      <td>0.598930</td>\n",
       "      <td>-0.905916</td>\n",
       "      <td>-0.817125</td>\n",
       "      <td>1.139974</td>\n",
       "      <td>-0.061121</td>\n",
       "      <td>-0.101225</td>\n",
       "      <td>200.5</td>\n",
       "      <td>292219499736-compute@developer.gserviceaccount...</td>\n",
       "    </tr>\n",
       "    <tr>\n",
       "      <th>1</th>\n",
       "      <td>138794.0</td>\n",
       "      <td>1.556636</td>\n",
       "      <td>-0.858618</td>\n",
       "      <td>-1.541472</td>\n",
       "      <td>1.235769</td>\n",
       "      <td>0.142803</td>\n",
       "      <td>0.172018</td>\n",
       "      <td>0.186438</td>\n",
       "      <td>-0.093988</td>\n",
       "      <td>0.434570</td>\n",
       "      <td>...</td>\n",
       "      <td>0.536618</td>\n",
       "      <td>1.219162</td>\n",
       "      <td>-0.459225</td>\n",
       "      <td>-0.981304</td>\n",
       "      <td>0.427739</td>\n",
       "      <td>-0.227500</td>\n",
       "      <td>-0.026433</td>\n",
       "      <td>-0.027460</td>\n",
       "      <td>250.0</td>\n",
       "      <td>292219499736-compute@developer.gserviceaccount...</td>\n",
       "    </tr>\n",
       "    <tr>\n",
       "      <th>2</th>\n",
       "      <td>100922.0</td>\n",
       "      <td>1.923291</td>\n",
       "      <td>-0.511650</td>\n",
       "      <td>0.217122</td>\n",
       "      <td>0.583403</td>\n",
       "      <td>-1.043504</td>\n",
       "      <td>-0.428347</td>\n",
       "      <td>-0.946888</td>\n",
       "      <td>-0.055398</td>\n",
       "      <td>2.688932</td>\n",
       "      <td>...</td>\n",
       "      <td>-0.104106</td>\n",
       "      <td>0.033558</td>\n",
       "      <td>0.299543</td>\n",
       "      <td>-0.059774</td>\n",
       "      <td>-0.628523</td>\n",
       "      <td>0.441857</td>\n",
       "      <td>-0.045307</td>\n",
       "      <td>-0.039834</td>\n",
       "      <td>39.0</td>\n",
       "      <td>292219499736-compute@developer.gserviceaccount...</td>\n",
       "    </tr>\n",
       "    <tr>\n",
       "      <th>3</th>\n",
       "      <td>151295.0</td>\n",
       "      <td>-2.663683</td>\n",
       "      <td>2.410267</td>\n",
       "      <td>-0.956647</td>\n",
       "      <td>-1.124388</td>\n",
       "      <td>-0.477937</td>\n",
       "      <td>-0.984630</td>\n",
       "      <td>0.318403</td>\n",
       "      <td>0.709386</td>\n",
       "      <td>1.257919</td>\n",
       "      <td>...</td>\n",
       "      <td>0.003444</td>\n",
       "      <td>0.682532</td>\n",
       "      <td>-0.168789</td>\n",
       "      <td>-0.016866</td>\n",
       "      <td>0.370005</td>\n",
       "      <td>0.166635</td>\n",
       "      <td>0.867921</td>\n",
       "      <td>0.614288</td>\n",
       "      <td>20.0</td>\n",
       "      <td>292219499736-compute@developer.gserviceaccount...</td>\n",
       "    </tr>\n",
       "  </tbody>\n",
       "</table>\n",
       "<p>4 rows × 31 columns</p>\n",
       "</div>"
      ],
      "text/plain": [
       "       Time        V1        V2        V3        V4        V5        V6  \\\n",
       "0   66341.0 -1.975549 -1.606799  0.081444 -2.159326  0.589567  0.334022   \n",
       "1  138794.0  1.556636 -0.858618 -1.541472  1.235769  0.142803  0.172018   \n",
       "2  100922.0  1.923291 -0.511650  0.217122  0.583403 -1.043504 -0.428347   \n",
       "3  151295.0 -2.663683  2.410267 -0.956647 -1.124388 -0.477937 -0.984630   \n",
       "\n",
       "         V7        V8        V9  ...       V21       V22       V23       V24  \\\n",
       "0  0.091121  0.745302 -1.320319  ...  0.071180 -0.009378  0.598930 -0.905916   \n",
       "1  0.186438 -0.093988  0.434570  ...  0.536618  1.219162 -0.459225 -0.981304   \n",
       "2 -0.946888 -0.055398  2.688932  ... -0.104106  0.033558  0.299543 -0.059774   \n",
       "3  0.318403  0.709386  1.257919  ...  0.003444  0.682532 -0.168789 -0.016866   \n",
       "\n",
       "        V25       V26       V27       V28  Amount  \\\n",
       "0 -0.817125  1.139974 -0.061121 -0.101225   200.5   \n",
       "1  0.427739 -0.227500 -0.026433 -0.027460   250.0   \n",
       "2 -0.628523  0.441857 -0.045307 -0.039834    39.0   \n",
       "3  0.370005  0.166635  0.867921  0.614288    20.0   \n",
       "\n",
       "                               service_account_email  \n",
       "0  292219499736-compute@developer.gserviceaccount...  \n",
       "1  292219499736-compute@developer.gserviceaccount...  \n",
       "2  292219499736-compute@developer.gserviceaccount...  \n",
       "3  292219499736-compute@developer.gserviceaccount...  \n",
       "\n",
       "[4 rows x 31 columns]"
      ]
     },
     "execution_count": 35,
     "metadata": {},
     "output_type": "execute_result"
    }
   ],
   "source": [
    "# Display the first few rows of the prediction data\n",
    "pred.head(4)"
   ]
  },
  {
   "cell_type": "code",
   "execution_count": 36,
   "id": "4c32ed6b",
   "metadata": {
    "tags": []
   },
   "outputs": [],
   "source": [
    "# Prepare Data for Prediction\n",
    "# Convert the 'Time' column to numeric to ensure proper format\n",
    "# The `Time` column is converted to numeric to ensure all data is in the correct format for prediction. \n",
    "# The DataFrame is then converted to a dictionary format (`records` orientation) which is required by the prediction API.\n",
    "\n",
    "import pandas as pd\n",
    "pred['Time'] = pd.to_numeric(pred['Time'], errors='coerce')\n",
    "\n",
    "# Convert the DataFrame to a dictionary format suitable for prediction\n",
    "newobs = pred.to_dict(orient='records')"
   ]
  },
  {
   "cell_type": "markdown",
   "id": "c2fde74e",
   "metadata": {},
   "source": [
    "Need to understand the format of variables that the predictions expect.  AutoML may convert the type of some variables. The following cells retrieve the model from the endpoint and its schemata:"
   ]
  },
  {
   "cell_type": "code",
   "execution_count": 37,
   "id": "d438383e",
   "metadata": {
    "tags": []
   },
   "outputs": [],
   "source": [
    "# This code snippet parses the dictionary to the format expected by AutoML for prediction.\n",
    "# This step ensures that all variable types are correctly interpreted by the model.\n",
    "\n",
    "# Parse Dictionary for Prediction\n",
    "# Parse the dictionary to the format expected by the model for prediction\n",
    "instances = [json_format.ParseDict(newob, Value()) for newob in newobs]\n",
    "#instances"
   ]
  },
  {
   "cell_type": "markdown",
   "id": "ec61f206",
   "metadata": {},
   "source": [
    "### Get Predictions: Python Client"
   ]
  },
  {
   "cell_type": "code",
   "execution_count": 38,
   "id": "116fefd9-e7c7-4971-8e6b-d630469f2330",
   "metadata": {
    "tags": []
   },
   "outputs": [
    {
     "data": {
      "text/plain": [
       "[<google.cloud.aiplatform.models.Endpoint object at 0x7fe5ab6abeb0> \n",
       " resource name: projects/292219499736/locations/us-central1/endpoints/5576078662265995264,\n",
       " <google.cloud.aiplatform.models.Endpoint object at 0x7fe5ab76bb50> \n",
       " resource name: projects/292219499736/locations/us-central1/endpoints/3365532524854902784]"
      ]
     },
     "execution_count": 38,
     "metadata": {},
     "output_type": "execute_result"
    }
   ],
   "source": [
    "# Get Predictions: Python Client\n",
    "# List Endpoints\n",
    "# List available endpoints filtered by the notebook label\n",
    "\n",
    "aiplatform.Endpoint.list(filter=f'labels.notebook={NOTEBOOK}')"
   ]
  },
  {
   "cell_type": "code",
   "execution_count": 39,
   "id": "279cf479",
   "metadata": {
    "tags": []
   },
   "outputs": [
    {
     "data": {
      "text/plain": [
       "'03_ulb_fraud_detection_20240527124725'"
      ]
     },
     "execution_count": 39,
     "metadata": {},
     "output_type": "execute_result"
    }
   ],
   "source": [
    "# Select the appropriate endpoint for prediction\n",
    "# This selects the first endpoint from the list of available endpoints. The `display_name` of the endpoint is printed for reference.\n",
    "# Proceed with getting the endpoint and making a prediction\n",
    "endpoint = aiplatform.Endpoint.list(filter=f'labels.notebook={NOTEBOOK}')[0]\n",
    "endpoint.display_name"
   ]
  },
  {
   "cell_type": "code",
   "execution_count": 40,
   "id": "c7c298d5",
   "metadata": {
    "tags": []
   },
   "outputs": [
    {
     "data": {
      "text/plain": [
       "{'classes': ['0', '1'], 'scores': [0.9996548295021057, 0.0003451273369137198]}"
      ]
     },
     "execution_count": 40,
     "metadata": {},
     "output_type": "execute_result"
    }
   ],
   "source": [
    "# Proceed with getting the endpoint and making a prediction\n",
    "prediction = endpoint.predict(instances = instances) # or instances = newobs\n",
    "# Print the prediction results\n",
    "prediction.predictions[0]"
   ]
  },
  {
   "cell_type": "code",
   "execution_count": 41,
   "id": "1323d595",
   "metadata": {
    "tags": []
   },
   "outputs": [
    {
     "data": {
      "text/plain": [
       "'0'"
      ]
     },
     "execution_count": 41,
     "metadata": {},
     "output_type": "execute_result"
    }
   ],
   "source": [
    "# The prediction result indicates the probabilities of the instance belonging to each class (`0` and `1`). \n",
    "# In this example, the probability of class `0` is very high, indicating a strong prediction that the instance is not fraudulent.\n",
    "#  The `np.argmax` function is used to find the index of the highest score, which determines the predicted class. \n",
    "# In this example, the model predicts the instance as class `0` (not fraudulent).\n",
    "\n",
    "prediction.predictions[0]['classes'][np.argmax(prediction.predictions[0]['scores'])]"
   ]
  },
  {
   "cell_type": "markdown",
   "id": "f68781f2",
   "metadata": {},
   "source": [
    "### Get Predictions: REST"
   ]
  },
  {
   "cell_type": "code",
   "execution_count": 42,
   "id": "f6b3a5b9",
   "metadata": {
    "tags": []
   },
   "outputs": [],
   "source": [
    "# Write the prediction request to a JSON file.\n",
    "# This step creates a JSON file that contains the input data for the prediction request.\n",
    "# The prediction input data is written to a JSON file. This file will be used to make a prediction request via the REST API.\n",
    "# The file is saved in a specified directory (`DIR`) with the name `request.json`.\n",
    "\n",
    "with open(f'{DIR}/request.json','w') as file:\n",
    "    file.write(json.dumps({\"instances\": [newobs[0]]}))"
   ]
  },
  {
   "cell_type": "code",
   "execution_count": 43,
   "id": "6e7b1b91",
   "metadata": {
    "tags": []
   },
   "outputs": [
    {
     "name": "stdout",
     "output_type": "stream",
     "text": [
      "{\n",
      "  \"predictions\": [\n",
      "    {\n",
      "      \"scores\": [\n",
      "        0.99965482950210571,\n",
      "        0.00034512742422521109\n",
      "      ],\n",
      "      \"classes\": [\n",
      "        \"0\",\n",
      "        \"1\"\n",
      "      ]\n",
      "    }\n",
      "  ],\n",
      "  \"deployedModelId\": \"3752977332738981888\",\n",
      "  \"model\": \"projects/292219499736/locations/us-central1/models/3777518432270942208\",\n",
      "  \"modelDisplayName\": \"03_ulb_fraud_detection_20240527124725\",\n",
      "  \"modelVersionId\": \"1\"\n",
      "}\n"
     ]
    }
   ],
   "source": [
    "# Make a prediction request using curl and REST API.\n",
    "#  This command sends the JSON file with the input data to the Vertex AI prediction endpoint.\n",
    "# curl Command: This command uses `curl` to make an HTTP POST request to the Vertex AI prediction endpoint.\n",
    "# Authorization Header : The `Authorization` header includes a bearer token obtained using `gcloud auth`. This token authenticates the request.\n",
    "# Content-Type Header :  Specifies that the content type of the request is JSON.\n",
    "# Data: The JSON file containing the prediction input data is sent in the request body.\n",
    "# Endpoint URL : The URL for the Vertex AI prediction endpoint is constructed using the region and endpoint resource name.\n",
    "\n",
    "!curl -X POST \\\n",
    "-H \"Authorization: Bearer \"$(gcloud auth application-default print-access-token) \\\n",
    "-H \"Content-Type: application/json; charset=utf-8\" \\\n",
    "-d @{DIR}/request.json \\\n",
    "https://{REGION}-aiplatform.googleapis.com/v1/{endpoint.resource_name}:predict"
   ]
  },
  {
   "cell_type": "markdown",
   "id": "7b428c9d",
   "metadata": {},
   "source": [
    "### Get Predictions: gcloud (CLI)"
   ]
  },
  {
   "cell_type": "code",
   "execution_count": 44,
   "id": "d3523017",
   "metadata": {
    "tags": []
   },
   "outputs": [
    {
     "name": "stdout",
     "output_type": "stream",
     "text": [
      "Using endpoint [https://us-central1-prediction-aiplatform.googleapis.com/]\n",
      "[{'classes': ['0', '1'], 'scores': [0.9996548295021057, 0.0003451274242252111]}]\n"
     ]
    }
   ],
   "source": [
    "# Make a prediction request using the gcloud CLI.\n",
    "#  This command uses the gcloud CLI to send the JSON file with the input data to the Vertex AI prediction endpoint.\n",
    "# The `gcloud beta ai endpoints predict` command is used to make a prediction request.\n",
    "# Endpoint ID : The endpoint ID is extracted from the endpoint resource name.\n",
    "# Region : Specifies the region where the endpoint is deployed.\n",
    "# JSON Request : The path to the JSON file containing the prediction input data is provided.\n",
    "\n",
    "!gcloud beta ai endpoints predict {endpoint.name.rsplit('/',1)[-1]} --region={REGION} --json-request={DIR}/request.json"
   ]
  },
  {
   "cell_type": "markdown",
   "id": "3d0d825b",
   "metadata": {},
   "source": [
    "## Explanations\n",
    "Interpretation Guide\n",
    "- https://cloud.google.com/vertex-ai/docs/predictions/interpreting-results-automl#tabular"
   ]
  },
  {
   "cell_type": "code",
   "execution_count": 45,
   "id": "80280fc8",
   "metadata": {
    "tags": []
   },
   "outputs": [],
   "source": [
    "# Make an explanation request to the endpoint.\n",
    "#  Vertex AI can provide explanations for the predictions, which helps understand the model's decision-making process.\n",
    "# Explain Method : The `endpoint.explain()` method is called with the prediction instances and parameters to retrieve explanations.\n",
    "# \n",
    "\n",
    "explanation = endpoint.explain(instances = instances)"
   ]
  },
  {
   "cell_type": "code",
   "execution_count": 46,
   "id": "6b2a6912",
   "metadata": {
    "tags": []
   },
   "outputs": [
    {
     "data": {
      "text/plain": [
       "{'classes': ['0', '1'], 'scores': [0.9996548295021057, 0.0003451273369137198]}"
      ]
     },
     "execution_count": 46,
     "metadata": {},
     "output_type": "execute_result"
    }
   ],
   "source": [
    "# Display the explanation results\n",
    "explanation.predictions[0]"
   ]
  },
  {
   "cell_type": "code",
   "execution_count": 47,
   "id": "a862b22a",
   "metadata": {
    "tags": []
   },
   "outputs": [
    {
     "name": "stdout",
     "output_type": "stream",
     "text": [
      "attribution:\n",
      "baseline output 0.9995970129966736\n",
      "instance output 0.9996548295021057\n",
      "output_index [0]\n",
      "output display value 0\n",
      "approximation error 0.006502193145649965\n"
     ]
    }
   ],
   "source": [
    "# Print the detailed explanation attributes.\n",
    "# The explanation includes various attributes that help understand the model's decision-making process.\n",
    "# This code prints detailed attributes of the explanation provided by Vertex AI.\n",
    "\n",
    "print(\"attribution:\")\n",
    "#  The predicted output if no input features were used (baseline).\n",
    "print(\"baseline output\",explanation.explanations[0].attributions[0].baseline_output_value)\n",
    "#  The predicted output for the given input instance.\n",
    "print(\"instance output\",explanation.explanations[0].attributions[0].instance_output_value)\n",
    "# The index of the output in the prediction.\n",
    "print(\"output_index\",explanation.explanations[0].attributions[0].output_index)\n",
    "# A human-readable name for the output.\n",
    "print(\"output display value\",explanation.explanations[0].attributions[0].output_display_name)\n",
    "# The error in the approximation of the explanation.\n",
    "print(\"approximation error\",explanation.explanations[0].attributions[0].approximation_error)"
   ]
  },
  {
   "cell_type": "code",
   "execution_count": 48,
   "id": "6afdc889-9620-4e5c-adf9-5ecf2238ad75",
   "metadata": {
    "tags": []
   },
   "outputs": [
    {
     "data": {
      "image/png": "[encoded data removed]",
      "text/plain": [
       "<Figure size 900x900 with 1 Axes>"
      ]
     },
     "metadata": {},
     "output_type": "display_data"
    }
   ],
   "source": [
    "# Visualize the Feature Attributions\n",
    "# Import necessary libraries for visualization.\n",
    "import matplotlib.pyplot as plt\n",
    "# Initialize lists to store features and their scores.\n",
    "features = []\n",
    "scores = []\n",
    "# Extract feature attributions from the explanation.\n",
    "for k in explanation.explanations[0].attributions[0].feature_attributions:\n",
    "    features.append(k)\n",
    "    scores.append(explanation.explanations[0].attributions[0].feature_attributions[k])\n",
    "features = [x for _, x in sorted(zip(scores, features))] # Sort the features by their scores for better visualization.\n",
    "scores = sorted(scores)\n",
    "# Create a bar plot to visualize the feature attributions.\n",
    "fig, ax = plt.subplots()\n",
    "fig.set_size_inches(9, 9)\n",
    "ax.barh(features, scores)\n",
    "fig.show()"
   ]
  },
  {
   "cell_type": "markdown",
   "id": "d44d8420-a939-4b03-b266-2cac5c677ede",
   "metadata": {},
   "source": [
    "####  **Interpretation of the Bar Chart**\n",
    "The Bar Chart above shows the feature attributions for a particular prediction made by the model. Here's a detailed interpretation of the chart:\n",
    "- Horizontal Axis (Attribution Score) : The horizontal axis represents the attribution scores, which indicate the contribution of each feature to the model's prediction.\n",
    "- Positive scores suggest that the feature contributes positively to the prediction (i.e., increasing the likelihood of the predicted class).\n",
    "- Negative scores suggest that the feature contributes negatively to the prediction (i.e., decreasing the likelihood of the predicted class).\n",
    "- The vertical axis lists the features from the dataset.\n",
    "- Each bar corresponds to a feature and its length represents the magnitude of its attribution score.\n",
    "\n",
    "**Example : (Your results could be different)**\n",
    "\n",
    "**Top Contributing Features:**\n",
    "- V26: The feature **V26** has the highest positive attribution score, indicating it is the most influential feature in driving the model's prediction towards the predicted class.\n",
    "- V19 : Similarly, **V19** is also a significant positive contributor.\n",
    "\n",
    "**Features with Lower Impact :**\n",
    "-  Features like **V16** and **V10** have negative attribution scores, indicating they negatively impact the prediction. This means that higher values of these features reduce the likelihood of the predicted class.\n",
    "\n",
    "**Neutral or Low-Impact Features :**\n",
    "- Features closer to zero, such as **V7** and **V20**, have minimal impact on the prediction. They neither strongly support nor oppose the predicted outcome."
   ]
  },
  {
   "cell_type": "markdown",
   "id": "1a12e906",
   "metadata": {},
   "source": [
    "---\n",
    "## Batch Predictions: BigQuery Source to BigQuery Destination, with Explanations"
   ]
  },
  {
   "cell_type": "code",
   "execution_count": null,
   "id": "7145bae3",
   "metadata": {
    "tags": []
   },
   "outputs": [
    {
     "name": "stdout",
     "output_type": "stream",
     "text": [
      "Creating BatchPredictionJob\n",
      "BatchPredictionJob created. Resource name: projects/292219499736/locations/us-central1/batchPredictionJobs/233030803628490752\n",
      "To use this BatchPredictionJob in another session:\n",
      "bpj = aiplatform.BatchPredictionJob('projects/292219499736/locations/us-central1/batchPredictionJobs/233030803628490752')\n",
      "View Batch Prediction Job:\n",
      "https://console.cloud.google.com/ai/platform/locations/us-central1/batch-predictions/233030803628490752?project=292219499736\n"
     ]
    }
   ],
   "source": [
    "# this job would take +2 hours,  depending on your infrastcuture\n",
    "# Create a batch prediction job to run predictions on a large dataset stored in BigQuery and save the results back to BigQuery.\n",
    "# job_display_name: A descriptive name for the batch prediction job, useful for identifying it in the Vertex AI console.\n",
    "# model_name : The name of the deployed model to be used for making predictions.\n",
    "# instances_format : Specifies the format of the input data. Here, it is set to \"bigquery\" because the input data is in a BigQuery table.\n",
    "# predictions_format : Specifies the format of the output predictions. Here, it is set to \"bigquery\" to store the predictions back in BigQuery.\n",
    "# bigquery_source : The path to the BigQuery table that contains the input data.\n",
    "# bigquery_destination_prefix : The project ID where the prediction results will be stored.\n",
    "# generate_explanation : If set to True, the job will generate explanations for the predictions, providing insights into the model's decision-making process.\n",
    "# labels :  Metadata labels for organizing and managing the job.\n",
    "\n",
    "batch = aiplatform.BatchPredictionJob.create(\n",
    "    job_display_name = f'{NOTEBOOK}_{BQ_TABLE}_{TIMESTAMP}',\n",
    "    model_name = endpoint.list_models()[0].model,\n",
    "    instances_format = \"bigquery\",\n",
    "    predictions_format = \"bigquery\",\n",
    "    bigquery_source = f'bq://{BQ_PROJECT}.{BQ_DATASET}.{BQ_TABLE}_prepped',\n",
    "    bigquery_destination_prefix = f\"{PROJECT_ID}\",\n",
    "    generate_explanation=True,\n",
    "    labels = {'notebook':f'{NOTEBOOK}'}\n",
    ")"
   ]
  },
  {
   "cell_type": "code",
   "execution_count": null,
   "id": "a8e4a03f-e012-457c-b56c-4f9ebdc2aaea",
   "metadata": {},
   "outputs": [],
   "source": []
  }
 ],
 "metadata": {
  "environment": {
   "kernel": "python3",
   "name": "tf2-cpu.2-11.m121",
   "type": "gcloud",
   "uri": "us-docker.pkg.dev/deeplearning-platform-release/gcr.io/tf2-cpu.2-11:m121"
  },
  "kernelspec": {
   "display_name": "Python 3 (Local)",
   "language": "python",
   "name": "python3"
  },
  "language_info": {
   "codemirror_mode": {
    "name": "ipython",
    "version": 3
   },
   "file_extension": ".py",
   "mimetype": "text/x-python",
   "name": "python",
   "nbconvert_exporter": "python",
   "pygments_lexer": "ipython3",
   "version": "3.10.14"
  }
 },
 "nbformat": 4,
 "nbformat_minor": 5
}
